{
 "cells": [
  {
   "cell_type": "markdown",
   "id": "4050ee3e",
   "metadata": {},
   "source": [
    "### Training neural networks"
   ]
  },
  {
   "cell_type": "markdown",
   "id": "4b7dd9da",
   "metadata": {},
   "source": [
    "We will work on three replicates of our dataset : \\\n",
    "    - data - the whole dataset partially preprocessed \\\n",
    "    - manually_selected_data - manually selected features, partially preprocessed \\\n",
    "    - automatically_selected_data - automatically selected features, partially preprocessed"
   ]
  },
  {
   "cell_type": "markdown",
   "id": "332407f5",
   "metadata": {},
   "source": [
    "Let's read our datasets"
   ]
  },
  {
   "cell_type": "code",
   "execution_count": 1,
   "id": "5d293637",
   "metadata": {},
   "outputs": [],
   "source": [
    "import numpy as np\n",
    "import pandas as pd\n",
    "import os\n",
    "import seaborn as sns\n",
    "import matplotlib.pyplot as plt\n",
    "from sklearn import metrics"
   ]
  },
  {
   "cell_type": "code",
   "execution_count": 2,
   "id": "1029cd01",
   "metadata": {},
   "outputs": [],
   "source": [
    "def load_data(filename, FOLDER=\"./data\"):\n",
    "    csv_path = os.path.join(FOLDER, filename)\n",
    "    return pd.read_csv(csv_path)"
   ]
  },
  {
   "cell_type": "code",
   "execution_count": 3,
   "id": "93f76068",
   "metadata": {},
   "outputs": [
    {
     "data": {
      "text/html": [
       "<div>\n",
       "<style scoped>\n",
       "    .dataframe tbody tr th:only-of-type {\n",
       "        vertical-align: middle;\n",
       "    }\n",
       "\n",
       "    .dataframe tbody tr th {\n",
       "        vertical-align: top;\n",
       "    }\n",
       "\n",
       "    .dataframe thead th {\n",
       "        text-align: right;\n",
       "    }\n",
       "</style>\n",
       "<table border=\"1\" class=\"dataframe\">\n",
       "  <thead>\n",
       "    <tr style=\"text-align: right;\">\n",
       "      <th></th>\n",
       "      <th>Education</th>\n",
       "      <th>Marital_Status</th>\n",
       "      <th>Income</th>\n",
       "      <th>Kidhome</th>\n",
       "      <th>Teenhome</th>\n",
       "      <th>Recency</th>\n",
       "      <th>MntWines</th>\n",
       "      <th>MntFruits</th>\n",
       "      <th>MntMeatProducts</th>\n",
       "      <th>MntFishProducts</th>\n",
       "      <th>...</th>\n",
       "      <th>NumWebVisitsMonth</th>\n",
       "      <th>AcceptedCmp3</th>\n",
       "      <th>AcceptedCmp4</th>\n",
       "      <th>AcceptedCmp5</th>\n",
       "      <th>AcceptedCmp1</th>\n",
       "      <th>AcceptedCmp2</th>\n",
       "      <th>Complain</th>\n",
       "      <th>Response</th>\n",
       "      <th>Customming_years</th>\n",
       "      <th>Age</th>\n",
       "    </tr>\n",
       "  </thead>\n",
       "  <tbody>\n",
       "    <tr>\n",
       "      <th>0</th>\n",
       "      <td>Graduation</td>\n",
       "      <td>Single</td>\n",
       "      <td>0.357999</td>\n",
       "      <td>0.0</td>\n",
       "      <td>0.0</td>\n",
       "      <td>0.585859</td>\n",
       "      <td>0.425318</td>\n",
       "      <td>0.442211</td>\n",
       "      <td>0.316522</td>\n",
       "      <td>0.664093</td>\n",
       "      <td>...</td>\n",
       "      <td>0.35</td>\n",
       "      <td>0.0</td>\n",
       "      <td>0.0</td>\n",
       "      <td>0.0</td>\n",
       "      <td>0.0</td>\n",
       "      <td>0.0</td>\n",
       "      <td>0.0</td>\n",
       "      <td>1</td>\n",
       "      <td>1.000000</td>\n",
       "      <td>0.792683</td>\n",
       "    </tr>\n",
       "    <tr>\n",
       "      <th>1</th>\n",
       "      <td>Graduation</td>\n",
       "      <td>Single</td>\n",
       "      <td>0.285375</td>\n",
       "      <td>0.5</td>\n",
       "      <td>0.5</td>\n",
       "      <td>0.383838</td>\n",
       "      <td>0.007368</td>\n",
       "      <td>0.005025</td>\n",
       "      <td>0.003478</td>\n",
       "      <td>0.007722</td>\n",
       "      <td>...</td>\n",
       "      <td>0.25</td>\n",
       "      <td>0.0</td>\n",
       "      <td>0.0</td>\n",
       "      <td>0.0</td>\n",
       "      <td>0.0</td>\n",
       "      <td>0.0</td>\n",
       "      <td>0.0</td>\n",
       "      <td>0</td>\n",
       "      <td>0.333333</td>\n",
       "      <td>0.829268</td>\n",
       "    </tr>\n",
       "    <tr>\n",
       "      <th>2</th>\n",
       "      <td>Graduation</td>\n",
       "      <td>Together</td>\n",
       "      <td>0.440975</td>\n",
       "      <td>0.0</td>\n",
       "      <td>0.0</td>\n",
       "      <td>0.262626</td>\n",
       "      <td>0.285332</td>\n",
       "      <td>0.246231</td>\n",
       "      <td>0.073623</td>\n",
       "      <td>0.428571</td>\n",
       "      <td>...</td>\n",
       "      <td>0.20</td>\n",
       "      <td>0.0</td>\n",
       "      <td>0.0</td>\n",
       "      <td>0.0</td>\n",
       "      <td>0.0</td>\n",
       "      <td>0.0</td>\n",
       "      <td>0.0</td>\n",
       "      <td>0</td>\n",
       "      <td>0.666667</td>\n",
       "      <td>0.695122</td>\n",
       "    </tr>\n",
       "    <tr>\n",
       "      <th>3</th>\n",
       "      <td>Graduation</td>\n",
       "      <td>Together</td>\n",
       "      <td>0.164079</td>\n",
       "      <td>0.5</td>\n",
       "      <td>0.0</td>\n",
       "      <td>0.262626</td>\n",
       "      <td>0.007368</td>\n",
       "      <td>0.020101</td>\n",
       "      <td>0.011594</td>\n",
       "      <td>0.038610</td>\n",
       "      <td>...</td>\n",
       "      <td>0.30</td>\n",
       "      <td>0.0</td>\n",
       "      <td>0.0</td>\n",
       "      <td>0.0</td>\n",
       "      <td>0.0</td>\n",
       "      <td>0.0</td>\n",
       "      <td>0.0</td>\n",
       "      <td>0</td>\n",
       "      <td>0.333333</td>\n",
       "      <td>0.463415</td>\n",
       "    </tr>\n",
       "    <tr>\n",
       "      <th>4</th>\n",
       "      <td>PhD</td>\n",
       "      <td>Married</td>\n",
       "      <td>0.358954</td>\n",
       "      <td>0.5</td>\n",
       "      <td>0.0</td>\n",
       "      <td>0.949495</td>\n",
       "      <td>0.115874</td>\n",
       "      <td>0.216080</td>\n",
       "      <td>0.068406</td>\n",
       "      <td>0.177606</td>\n",
       "      <td>...</td>\n",
       "      <td>0.25</td>\n",
       "      <td>0.0</td>\n",
       "      <td>0.0</td>\n",
       "      <td>0.0</td>\n",
       "      <td>0.0</td>\n",
       "      <td>0.0</td>\n",
       "      <td>0.0</td>\n",
       "      <td>0</td>\n",
       "      <td>0.333333</td>\n",
       "      <td>0.500000</td>\n",
       "    </tr>\n",
       "  </tbody>\n",
       "</table>\n",
       "<p>5 rows × 26 columns</p>\n",
       "</div>"
      ],
      "text/plain": [
       "    Education Marital_Status    Income  Kidhome  Teenhome   Recency  MntWines  \\\n",
       "0  Graduation         Single  0.357999      0.0       0.0  0.585859  0.425318   \n",
       "1  Graduation         Single  0.285375      0.5       0.5  0.383838  0.007368   \n",
       "2  Graduation       Together  0.440975      0.0       0.0  0.262626  0.285332   \n",
       "3  Graduation       Together  0.164079      0.5       0.0  0.262626  0.007368   \n",
       "4         PhD        Married  0.358954      0.5       0.0  0.949495  0.115874   \n",
       "\n",
       "   MntFruits  MntMeatProducts  MntFishProducts  ...  NumWebVisitsMonth  \\\n",
       "0   0.442211         0.316522         0.664093  ...               0.35   \n",
       "1   0.005025         0.003478         0.007722  ...               0.25   \n",
       "2   0.246231         0.073623         0.428571  ...               0.20   \n",
       "3   0.020101         0.011594         0.038610  ...               0.30   \n",
       "4   0.216080         0.068406         0.177606  ...               0.25   \n",
       "\n",
       "   AcceptedCmp3  AcceptedCmp4  AcceptedCmp5  AcceptedCmp1  AcceptedCmp2  \\\n",
       "0           0.0           0.0           0.0           0.0           0.0   \n",
       "1           0.0           0.0           0.0           0.0           0.0   \n",
       "2           0.0           0.0           0.0           0.0           0.0   \n",
       "3           0.0           0.0           0.0           0.0           0.0   \n",
       "4           0.0           0.0           0.0           0.0           0.0   \n",
       "\n",
       "   Complain  Response  Customming_years       Age  \n",
       "0       0.0         1          1.000000  0.792683  \n",
       "1       0.0         0          0.333333  0.829268  \n",
       "2       0.0         0          0.666667  0.695122  \n",
       "3       0.0         0          0.333333  0.463415  \n",
       "4       0.0         0          0.333333  0.500000  \n",
       "\n",
       "[5 rows x 26 columns]"
      ]
     },
     "metadata": {},
     "output_type": "display_data"
    }
   ],
   "source": [
    "data = load_data(\"preprocessed_data.csv\")\n",
    "display(data.head())"
   ]
  },
  {
   "cell_type": "code",
   "execution_count": 4,
   "id": "68cee81d",
   "metadata": {},
   "outputs": [
    {
     "data": {
      "text/html": [
       "<div>\n",
       "<style scoped>\n",
       "    .dataframe tbody tr th:only-of-type {\n",
       "        vertical-align: middle;\n",
       "    }\n",
       "\n",
       "    .dataframe tbody tr th {\n",
       "        vertical-align: top;\n",
       "    }\n",
       "\n",
       "    .dataframe thead th {\n",
       "        text-align: right;\n",
       "    }\n",
       "</style>\n",
       "<table border=\"1\" class=\"dataframe\">\n",
       "  <thead>\n",
       "    <tr style=\"text-align: right;\">\n",
       "      <th></th>\n",
       "      <th>Kidhome</th>\n",
       "      <th>Teenhome</th>\n",
       "      <th>Recency</th>\n",
       "      <th>MntWines</th>\n",
       "      <th>MntMeatProducts</th>\n",
       "      <th>Income</th>\n",
       "      <th>NumCatalogPurchases</th>\n",
       "      <th>AcceptedCmp3</th>\n",
       "      <th>AcceptedCmp4</th>\n",
       "      <th>AcceptedCmp5</th>\n",
       "      <th>AcceptedCmp1</th>\n",
       "      <th>Customming_years</th>\n",
       "      <th>Response</th>\n",
       "    </tr>\n",
       "  </thead>\n",
       "  <tbody>\n",
       "    <tr>\n",
       "      <th>0</th>\n",
       "      <td>0.0</td>\n",
       "      <td>0.0</td>\n",
       "      <td>0.585859</td>\n",
       "      <td>0.425318</td>\n",
       "      <td>0.316522</td>\n",
       "      <td>0.357999</td>\n",
       "      <td>0.357143</td>\n",
       "      <td>0.0</td>\n",
       "      <td>0.0</td>\n",
       "      <td>0.0</td>\n",
       "      <td>0.0</td>\n",
       "      <td>1.000000</td>\n",
       "      <td>1</td>\n",
       "    </tr>\n",
       "    <tr>\n",
       "      <th>1</th>\n",
       "      <td>0.5</td>\n",
       "      <td>0.5</td>\n",
       "      <td>0.383838</td>\n",
       "      <td>0.007368</td>\n",
       "      <td>0.003478</td>\n",
       "      <td>0.285375</td>\n",
       "      <td>0.035714</td>\n",
       "      <td>0.0</td>\n",
       "      <td>0.0</td>\n",
       "      <td>0.0</td>\n",
       "      <td>0.0</td>\n",
       "      <td>0.333333</td>\n",
       "      <td>0</td>\n",
       "    </tr>\n",
       "    <tr>\n",
       "      <th>2</th>\n",
       "      <td>0.0</td>\n",
       "      <td>0.0</td>\n",
       "      <td>0.262626</td>\n",
       "      <td>0.285332</td>\n",
       "      <td>0.073623</td>\n",
       "      <td>0.440975</td>\n",
       "      <td>0.071429</td>\n",
       "      <td>0.0</td>\n",
       "      <td>0.0</td>\n",
       "      <td>0.0</td>\n",
       "      <td>0.0</td>\n",
       "      <td>0.666667</td>\n",
       "      <td>0</td>\n",
       "    </tr>\n",
       "    <tr>\n",
       "      <th>3</th>\n",
       "      <td>0.5</td>\n",
       "      <td>0.0</td>\n",
       "      <td>0.262626</td>\n",
       "      <td>0.007368</td>\n",
       "      <td>0.011594</td>\n",
       "      <td>0.164079</td>\n",
       "      <td>0.000000</td>\n",
       "      <td>0.0</td>\n",
       "      <td>0.0</td>\n",
       "      <td>0.0</td>\n",
       "      <td>0.0</td>\n",
       "      <td>0.333333</td>\n",
       "      <td>0</td>\n",
       "    </tr>\n",
       "    <tr>\n",
       "      <th>4</th>\n",
       "      <td>0.5</td>\n",
       "      <td>0.0</td>\n",
       "      <td>0.949495</td>\n",
       "      <td>0.115874</td>\n",
       "      <td>0.068406</td>\n",
       "      <td>0.358954</td>\n",
       "      <td>0.107143</td>\n",
       "      <td>0.0</td>\n",
       "      <td>0.0</td>\n",
       "      <td>0.0</td>\n",
       "      <td>0.0</td>\n",
       "      <td>0.333333</td>\n",
       "      <td>0</td>\n",
       "    </tr>\n",
       "  </tbody>\n",
       "</table>\n",
       "</div>"
      ],
      "text/plain": [
       "   Kidhome  Teenhome   Recency  MntWines  MntMeatProducts    Income  \\\n",
       "0      0.0       0.0  0.585859  0.425318         0.316522  0.357999   \n",
       "1      0.5       0.5  0.383838  0.007368         0.003478  0.285375   \n",
       "2      0.0       0.0  0.262626  0.285332         0.073623  0.440975   \n",
       "3      0.5       0.0  0.262626  0.007368         0.011594  0.164079   \n",
       "4      0.5       0.0  0.949495  0.115874         0.068406  0.358954   \n",
       "\n",
       "   NumCatalogPurchases  AcceptedCmp3  AcceptedCmp4  AcceptedCmp5  \\\n",
       "0             0.357143           0.0           0.0           0.0   \n",
       "1             0.035714           0.0           0.0           0.0   \n",
       "2             0.071429           0.0           0.0           0.0   \n",
       "3             0.000000           0.0           0.0           0.0   \n",
       "4             0.107143           0.0           0.0           0.0   \n",
       "\n",
       "   AcceptedCmp1  Customming_years  Response  \n",
       "0           0.0          1.000000         1  \n",
       "1           0.0          0.333333         0  \n",
       "2           0.0          0.666667         0  \n",
       "3           0.0          0.333333         0  \n",
       "4           0.0          0.333333         0  "
      ]
     },
     "metadata": {},
     "output_type": "display_data"
    }
   ],
   "source": [
    "manually_selected_data = load_data(\"manually_selected_data.csv\")\n",
    "display(manually_selected_data.head())"
   ]
  },
  {
   "cell_type": "code",
   "execution_count": 5,
   "id": "6d2e0e1a",
   "metadata": {},
   "outputs": [
    {
     "data": {
      "text/html": [
       "<div>\n",
       "<style scoped>\n",
       "    .dataframe tbody tr th:only-of-type {\n",
       "        vertical-align: middle;\n",
       "    }\n",
       "\n",
       "    .dataframe tbody tr th {\n",
       "        vertical-align: top;\n",
       "    }\n",
       "\n",
       "    .dataframe thead th {\n",
       "        text-align: right;\n",
       "    }\n",
       "</style>\n",
       "<table border=\"1\" class=\"dataframe\">\n",
       "  <thead>\n",
       "    <tr style=\"text-align: right;\">\n",
       "      <th></th>\n",
       "      <th>Recency</th>\n",
       "      <th>MntMeatProducts</th>\n",
       "      <th>Income</th>\n",
       "      <th>MntWines</th>\n",
       "      <th>MntGoldProds</th>\n",
       "      <th>AcceptedCmp5</th>\n",
       "      <th>Age</th>\n",
       "      <th>AcceptedCmp3</th>\n",
       "      <th>MntFishProducts</th>\n",
       "      <th>MntSweetProducts</th>\n",
       "      <th>MntFruits</th>\n",
       "      <th>NumWebVisitsMonth</th>\n",
       "      <th>NumCatalogPurchases</th>\n",
       "      <th>Response</th>\n",
       "    </tr>\n",
       "  </thead>\n",
       "  <tbody>\n",
       "    <tr>\n",
       "      <th>0</th>\n",
       "      <td>0.585859</td>\n",
       "      <td>0.316522</td>\n",
       "      <td>0.357999</td>\n",
       "      <td>0.425318</td>\n",
       "      <td>0.243094</td>\n",
       "      <td>0.0</td>\n",
       "      <td>0.792683</td>\n",
       "      <td>0.0</td>\n",
       "      <td>0.664093</td>\n",
       "      <td>0.334601</td>\n",
       "      <td>0.442211</td>\n",
       "      <td>0.35</td>\n",
       "      <td>0.357143</td>\n",
       "      <td>1</td>\n",
       "    </tr>\n",
       "    <tr>\n",
       "      <th>1</th>\n",
       "      <td>0.383838</td>\n",
       "      <td>0.003478</td>\n",
       "      <td>0.285375</td>\n",
       "      <td>0.007368</td>\n",
       "      <td>0.016575</td>\n",
       "      <td>0.0</td>\n",
       "      <td>0.829268</td>\n",
       "      <td>0.0</td>\n",
       "      <td>0.007722</td>\n",
       "      <td>0.003802</td>\n",
       "      <td>0.005025</td>\n",
       "      <td>0.25</td>\n",
       "      <td>0.035714</td>\n",
       "      <td>0</td>\n",
       "    </tr>\n",
       "    <tr>\n",
       "      <th>2</th>\n",
       "      <td>0.262626</td>\n",
       "      <td>0.073623</td>\n",
       "      <td>0.440975</td>\n",
       "      <td>0.285332</td>\n",
       "      <td>0.116022</td>\n",
       "      <td>0.0</td>\n",
       "      <td>0.695122</td>\n",
       "      <td>0.0</td>\n",
       "      <td>0.428571</td>\n",
       "      <td>0.079848</td>\n",
       "      <td>0.246231</td>\n",
       "      <td>0.20</td>\n",
       "      <td>0.071429</td>\n",
       "      <td>0</td>\n",
       "    </tr>\n",
       "    <tr>\n",
       "      <th>3</th>\n",
       "      <td>0.262626</td>\n",
       "      <td>0.011594</td>\n",
       "      <td>0.164079</td>\n",
       "      <td>0.007368</td>\n",
       "      <td>0.013812</td>\n",
       "      <td>0.0</td>\n",
       "      <td>0.463415</td>\n",
       "      <td>0.0</td>\n",
       "      <td>0.038610</td>\n",
       "      <td>0.011407</td>\n",
       "      <td>0.020101</td>\n",
       "      <td>0.30</td>\n",
       "      <td>0.000000</td>\n",
       "      <td>0</td>\n",
       "    </tr>\n",
       "    <tr>\n",
       "      <th>4</th>\n",
       "      <td>0.949495</td>\n",
       "      <td>0.068406</td>\n",
       "      <td>0.358954</td>\n",
       "      <td>0.115874</td>\n",
       "      <td>0.041436</td>\n",
       "      <td>0.0</td>\n",
       "      <td>0.500000</td>\n",
       "      <td>0.0</td>\n",
       "      <td>0.177606</td>\n",
       "      <td>0.102662</td>\n",
       "      <td>0.216080</td>\n",
       "      <td>0.25</td>\n",
       "      <td>0.107143</td>\n",
       "      <td>0</td>\n",
       "    </tr>\n",
       "  </tbody>\n",
       "</table>\n",
       "</div>"
      ],
      "text/plain": [
       "    Recency  MntMeatProducts    Income  MntWines  MntGoldProds  AcceptedCmp5  \\\n",
       "0  0.585859         0.316522  0.357999  0.425318      0.243094           0.0   \n",
       "1  0.383838         0.003478  0.285375  0.007368      0.016575           0.0   \n",
       "2  0.262626         0.073623  0.440975  0.285332      0.116022           0.0   \n",
       "3  0.262626         0.011594  0.164079  0.007368      0.013812           0.0   \n",
       "4  0.949495         0.068406  0.358954  0.115874      0.041436           0.0   \n",
       "\n",
       "        Age  AcceptedCmp3  MntFishProducts  MntSweetProducts  MntFruits  \\\n",
       "0  0.792683           0.0         0.664093          0.334601   0.442211   \n",
       "1  0.829268           0.0         0.007722          0.003802   0.005025   \n",
       "2  0.695122           0.0         0.428571          0.079848   0.246231   \n",
       "3  0.463415           0.0         0.038610          0.011407   0.020101   \n",
       "4  0.500000           0.0         0.177606          0.102662   0.216080   \n",
       "\n",
       "   NumWebVisitsMonth  NumCatalogPurchases  Response  \n",
       "0               0.35             0.357143         1  \n",
       "1               0.25             0.035714         0  \n",
       "2               0.20             0.071429         0  \n",
       "3               0.30             0.000000         0  \n",
       "4               0.25             0.107143         0  "
      ]
     },
     "metadata": {},
     "output_type": "display_data"
    }
   ],
   "source": [
    "atomatically_selected_data = load_data(\"atomatically_selected_data.csv\")\n",
    "display(atomatically_selected_data.head())"
   ]
  },
  {
   "cell_type": "markdown",
   "id": "d3031bdd",
   "metadata": {},
   "source": [
    "Let's devide columns to numeric and categorical for all 3 datasets"
   ]
  },
  {
   "cell_type": "code",
   "execution_count": 6,
   "id": "06350d88",
   "metadata": {},
   "outputs": [],
   "source": [
    "data_numerical_columns = data.select_dtypes(include=np.number).columns.tolist()\n",
    "manual_data_numerical_columns = manually_selected_data.select_dtypes(include=np.number).columns.tolist()\n",
    "atomatical_data_numerical_columns = atomatically_selected_data.select_dtypes(include=np.number).columns.tolist()\n",
    "\n",
    "data_categorical_columns = ['Education', 'Marital_Status']\n",
    "\n",
    "data_numerical_columns.remove('Response')\n",
    "manual_data_numerical_columns.remove('Response')\n",
    "atomatical_data_numerical_columns.remove('Response')"
   ]
  },
  {
   "cell_type": "markdown",
   "id": "db098a82",
   "metadata": {},
   "source": [
    "#### Let's create data frame selector"
   ]
  },
  {
   "cell_type": "code",
   "execution_count": 7,
   "id": "d86fde75",
   "metadata": {},
   "outputs": [],
   "source": [
    "from sklearn.base import BaseEstimator, TransformerMixin\n",
    "\n",
    "class DataFrameSelector(BaseEstimator, TransformerMixin):\n",
    "    def __init__(self, attribute_names):\n",
    "        self.attribute_names = attribute_names\n",
    "    def fit(self, X, y=None):\n",
    "        return self\n",
    "    def transform(self, X):\n",
    "        return X[self.attribute_names]"
   ]
  },
  {
   "cell_type": "markdown",
   "id": "588b2093",
   "metadata": {},
   "source": [
    "We will define preprocessing with special pipelines for numerical and categorical values"
   ]
  },
  {
   "cell_type": "code",
   "execution_count": 8,
   "id": "916c8d2d",
   "metadata": {},
   "outputs": [],
   "source": [
    "from sklearn.pipeline import Pipeline\n",
    "from sklearn.impute import SimpleImputer\n",
    "from sklearn.preprocessing import OneHotEncoder\n",
    "from sklearn.preprocessing import LabelEncoder\n",
    "from sklearn.pipeline import FeatureUnion\n",
    "\n",
    "data_num_pipeline = Pipeline([\n",
    "        (\"select_numeric\", DataFrameSelector(data_numerical_columns)),\n",
    "        (\"imputer\", SimpleImputer(strategy=\"median\")),\n",
    "    ])\n",
    "\n",
    "data_cat_pipeline = Pipeline([\n",
    "        (\"select_cat\", DataFrameSelector(data_categorical_columns)),\n",
    "        (\"imputer\", SimpleImputer(strategy=\"most_frequent\")),\n",
    "        (\"cat_encoder\", OneHotEncoder(sparse=False, handle_unknown = 'ignore')),\n",
    "    ])\n",
    "\n",
    "data_preprocess_pipeline = FeatureUnion(transformer_list=[\n",
    "        (\"num_pipeline\", data_num_pipeline),\n",
    "        (\"cat_pipeline\", data_cat_pipeline),\n",
    "    ])\n",
    "\n",
    "manual_preprocess_pipeline = Pipeline([\n",
    "        (\"select_numeric\", DataFrameSelector(manual_data_numerical_columns)),\n",
    "         (\"imputer\", SimpleImputer(strategy=\"median\")),\n",
    "    ])\n",
    "\n",
    "atomatic_preprocess_pipeline = Pipeline([\n",
    "        (\"select_numeric\", DataFrameSelector(atomatical_data_numerical_columns)),\n",
    "         (\"imputer\", SimpleImputer(strategy=\"median\")),\n",
    "    ])"
   ]
  },
  {
   "cell_type": "markdown",
   "id": "0da0fa32",
   "metadata": {},
   "source": [
    "### Devide our dataset for data and target"
   ]
  },
  {
   "cell_type": "code",
   "execution_count": 9,
   "id": "4754bc02",
   "metadata": {},
   "outputs": [],
   "source": [
    "X_data = data.drop(['Response'], axis=1)\n",
    "X_manual = manually_selected_data.drop(['Response'], axis=1)\n",
    "X_atomatic = atomatically_selected_data.drop(['Response'], axis=1)\n",
    "\n",
    "y_data = data['Response'].values\n",
    "y_manual = manually_selected_data['Response'].values\n",
    "y_atomatic = atomatically_selected_data['Response'].values"
   ]
  },
  {
   "cell_type": "markdown",
   "id": "9b97b8ed",
   "metadata": {},
   "source": [
    "### Devide our dataset for test and train sets"
   ]
  },
  {
   "cell_type": "code",
   "execution_count": 10,
   "id": "b660ec96",
   "metadata": {},
   "outputs": [],
   "source": [
    "from sklearn.model_selection import train_test_split\n",
    "\n",
    "X_data_train, X_data_test, y_data_train, y_data_test = train_test_split(X_data, y_data, test_size = 0.3, random_state = 50)\n",
    "X_manual_train, X_manual_test, y_manual_train, y_manual_test = \\\n",
    "            train_test_split(X_manual, y_manual, test_size = 0.4, random_state = 50)\n",
    "X_atomatic_train, X_atomatic_test, y_atomatic_train, y_atomatic_test = \\\n",
    "            train_test_split(X_atomatic, y_atomatic, test_size = 0.4, random_state = 50)"
   ]
  },
  {
   "cell_type": "code",
   "execution_count": 11,
   "id": "3584e4d9",
   "metadata": {},
   "outputs": [
    {
     "data": {
      "text/plain": [
       "array([[0.94949495, 0.01681159, 0.29488845, ..., 0.        , 0.25      ,\n",
       "        0.        ],\n",
       "       [0.2020202 , 0.00173913, 0.25336059, ..., 0.        , 0.15      ,\n",
       "        0.        ],\n",
       "       [0.48484848, 0.00115942, 0.21303349, ..., 0.        , 0.4       ,\n",
       "        0.        ],\n",
       "       ...,\n",
       "       [0.50505051, 0.10724638, 0.46739164, ..., 0.54271357, 0.15      ,\n",
       "        0.21428571],\n",
       "       [0.88888889, 0.10956522, 0.28801025, ..., 0.52261307, 0.4       ,\n",
       "        0.28571429],\n",
       "       [0.68686869, 0.08173913, 0.21672814, ..., 0.06030151, 0.4       ,\n",
       "        0.03571429]])"
      ]
     },
     "execution_count": 11,
     "metadata": {},
     "output_type": "execute_result"
    }
   ],
   "source": [
    "data_cat_pipeline.fit_transform(X_data_train)\n",
    "data_num_pipeline.fit_transform(X_data_train)\n",
    "\n",
    "manual_preprocess_pipeline.fit_transform(X_manual_train)\n",
    "atomatic_preprocess_pipeline.fit_transform(X_atomatic_train)"
   ]
  },
  {
   "cell_type": "markdown",
   "id": "2fab66de",
   "metadata": {},
   "source": [
    "### Sieci neuronowe "
   ]
  },
  {
   "cell_type": "code",
   "execution_count": 12,
   "id": "01832716",
   "metadata": {},
   "outputs": [],
   "source": [
    "X_data_train = data_preprocess_pipeline.transform(X_data_train)\n",
    "X_data_test = data_preprocess_pipeline.transform(X_data_test)"
   ]
  },
  {
   "cell_type": "code",
   "execution_count": 13,
   "id": "ee14b496",
   "metadata": {},
   "outputs": [],
   "source": [
    "X_manual_train = manual_preprocess_pipeline.transform(X_manual_train)\n",
    "X_manual_test = manual_preprocess_pipeline.transform(X_manual_test)"
   ]
  },
  {
   "cell_type": "code",
   "execution_count": 14,
   "id": "e9a59c6d",
   "metadata": {},
   "outputs": [],
   "source": [
    "X_atomatic_train = atomatic_preprocess_pipeline.transform(X_atomatic_train)\n",
    "X_atomatic_test = atomatic_preprocess_pipeline.transform(X_atomatic_test)"
   ]
  },
  {
   "cell_type": "code",
   "execution_count": 15,
   "id": "8fd75713",
   "metadata": {},
   "outputs": [],
   "source": [
    "from tensorflow import keras\n",
    "from keras.models import Sequential\n",
    "from keras.layers import Dense\n",
    "from keras.callbacks import LearningRateScheduler\n",
    "from keras.layers import BatchNormalization\n",
    "from keras.layers import Activation\n",
    "from keras.callbacks import ModelCheckpoint\n",
    "from keras.callbacks import EarlyStopping\n",
    "from keras.layers import Dropout"
   ]
  },
  {
   "cell_type": "code",
   "execution_count": 16,
   "id": "146a956d",
   "metadata": {},
   "outputs": [],
   "source": [
    "model_1_data = keras.Sequential([\n",
    "              Dense(25, activation='relu', name=\"input_layer\", input_shape=(X_data_train.shape[1], )),\n",
    "              Dense(5, activation='relu', name=\"1nd_layer\"),\n",
    "#               Dense(20, activation='relu', name=\"2nd_layer\"),\n",
    "              Dense(1, activation='sigmoid', name=\"output_layer\")\n",
    "], name=\"model_1_data\")\n",
    "\n",
    "model_1_manual = keras.Sequential([\n",
    "              Dense(75, activation='relu', name=\"input_layer\", input_shape=(X_manual_train.shape[1], )),\n",
    "              Dense(50, activation='relu', name=\"1nd_layer\"),\n",
    "              Dense(20, activation='relu', name=\"2nd_layer\"),\n",
    "              Dense(1, activation='sigmoid', name=\"output_layer\")\n",
    "], name=\"model_1_manual\")\n",
    "\n",
    "model_1_atomatic = keras.Sequential([\n",
    "              Dense(75, activation='relu', name=\"input_layer\", input_shape=(X_atomatic_train.shape[1], )),\n",
    "              Dense(50, activation='relu', name=\"1nd_layer\"),\n",
    "              Dense(20, activation='relu', name=\"2nd_layer\"),\n",
    "              Dense(1, activation='sigmoid', name=\"output_layer\")\n",
    "], name=\"model_1_atomatic\")\n",
    "\n",
    "\n",
    "\n",
    "model_1_data.compile(loss=keras.losses.BinaryCrossentropy(),\n",
    "                optimizer=keras.optimizers.Adam(learning_rate=0.001),\n",
    "                metrics=[\"accuracy\", keras.metrics.Recall(), keras.metrics.Precision()])\n",
    "\n",
    "model_1_manual.compile(loss=keras.losses.BinaryCrossentropy(),\n",
    "                optimizer=keras.optimizers.Adam(learning_rate=0.001),\n",
    "                metrics=[\"accuracy\", keras.metrics.Recall(), keras.metrics.Precision()])\n",
    "\n",
    "model_1_atomatic.compile(loss=keras.losses.BinaryCrossentropy(),\n",
    "                optimizer=keras.optimizers.Adam(learning_rate=0.001),\n",
    "                metrics=[\"accuracy\", keras.metrics.Recall(), keras.metrics.Precision()])"
   ]
  },
  {
   "cell_type": "code",
   "execution_count": 17,
   "id": "14bff3d9",
   "metadata": {},
   "outputs": [
    {
     "name": "stdout",
     "output_type": "stream",
     "text": [
      "Epoch 1/20\n",
      "25/25 [==============================] - 1s 15ms/step - loss: 0.6711 - accuracy: 0.5521 - recall: 0.4897 - precision: 0.1710 - val_loss: 0.6013 - val_accuracy: 0.8674 - val_recall: 0.0330 - val_precision: 0.7500\n",
      "Epoch 2/20\n",
      "25/25 [==============================] - 0s 3ms/step - loss: 0.5475 - accuracy: 0.8454 - recall: 0.0041 - precision: 1.0000 - val_loss: 0.4779 - val_accuracy: 0.8644 - val_recall: 0.0000e+00 - val_precision: 0.0000e+00\n",
      "Epoch 3/20\n",
      "25/25 [==============================] - 0s 3ms/step - loss: 0.4614 - accuracy: 0.8447 - recall: 0.0000e+00 - precision: 0.0000e+00 - val_loss: 0.4114 - val_accuracy: 0.8644 - val_recall: 0.0000e+00 - val_precision: 0.0000e+00\n",
      "Epoch 4/20\n",
      "25/25 [==============================] - 0s 3ms/step - loss: 0.4225 - accuracy: 0.8447 - recall: 0.0000e+00 - precision: 0.0000e+00 - val_loss: 0.3818 - val_accuracy: 0.8644 - val_recall: 0.0000e+00 - val_precision: 0.0000e+00\n",
      "Epoch 5/20\n",
      "25/25 [==============================] - 0s 3ms/step - loss: 0.4042 - accuracy: 0.8447 - recall: 0.0000e+00 - precision: 0.0000e+00 - val_loss: 0.3638 - val_accuracy: 0.8644 - val_recall: 0.0000e+00 - val_precision: 0.0000e+00\n",
      "Epoch 6/20\n",
      "25/25 [==============================] - 0s 3ms/step - loss: 0.3911 - accuracy: 0.8447 - recall: 0.0000e+00 - precision: 0.0000e+00 - val_loss: 0.3477 - val_accuracy: 0.8644 - val_recall: 0.0000e+00 - val_precision: 0.0000e+00\n",
      "Epoch 7/20\n",
      "25/25 [==============================] - 0s 3ms/step - loss: 0.3787 - accuracy: 0.8447 - recall: 0.0000e+00 - precision: 0.0000e+00 - val_loss: 0.3344 - val_accuracy: 0.8644 - val_recall: 0.0000e+00 - val_precision: 0.0000e+00\n",
      "Epoch 8/20\n",
      "25/25 [==============================] - 0s 3ms/step - loss: 0.3681 - accuracy: 0.8447 - recall: 0.0000e+00 - precision: 0.0000e+00 - val_loss: 0.3223 - val_accuracy: 0.8644 - val_recall: 0.0000e+00 - val_precision: 0.0000e+00\n",
      "Epoch 9/20\n",
      "25/25 [==============================] - 0s 3ms/step - loss: 0.3592 - accuracy: 0.8447 - recall: 0.0000e+00 - precision: 0.0000e+00 - val_loss: 0.3126 - val_accuracy: 0.8644 - val_recall: 0.0000e+00 - val_precision: 0.0000e+00\n",
      "Epoch 10/20\n",
      "25/25 [==============================] - 0s 3ms/step - loss: 0.3518 - accuracy: 0.8454 - recall: 0.0041 - precision: 1.0000 - val_loss: 0.3049 - val_accuracy: 0.8674 - val_recall: 0.0330 - val_precision: 0.7500\n",
      "Epoch 11/20\n",
      "25/25 [==============================] - 0s 3ms/step - loss: 0.3447 - accuracy: 0.8505 - recall: 0.0370 - precision: 1.0000 - val_loss: 0.2984 - val_accuracy: 0.8703 - val_recall: 0.0879 - val_precision: 0.6667\n",
      "Epoch 12/20\n",
      "25/25 [==============================] - 0s 3ms/step - loss: 0.3388 - accuracy: 0.8556 - recall: 0.1029 - precision: 0.7576 - val_loss: 0.2921 - val_accuracy: 0.8897 - val_recall: 0.2418 - val_precision: 0.8148\n",
      "Epoch 13/20\n",
      "25/25 [==============================] - 0s 3ms/step - loss: 0.3330 - accuracy: 0.8665 - recall: 0.1975 - precision: 0.7742 - val_loss: 0.2840 - val_accuracy: 0.8972 - val_recall: 0.2967 - val_precision: 0.8438\n",
      "Epoch 14/20\n",
      "25/25 [==============================] - 0s 3ms/step - loss: 0.3264 - accuracy: 0.8709 - recall: 0.2263 - precision: 0.7971 - val_loss: 0.2786 - val_accuracy: 0.8987 - val_recall: 0.3077 - val_precision: 0.8485\n",
      "Epoch 15/20\n",
      "25/25 [==============================] - 0s 3ms/step - loss: 0.3211 - accuracy: 0.8760 - recall: 0.2593 - precision: 0.8182 - val_loss: 0.2744 - val_accuracy: 0.9031 - val_recall: 0.3736 - val_precision: 0.8095\n",
      "Epoch 16/20\n",
      "25/25 [==============================] - 0s 3ms/step - loss: 0.3152 - accuracy: 0.8786 - recall: 0.2963 - precision: 0.7912 - val_loss: 0.2675 - val_accuracy: 0.9031 - val_recall: 0.3736 - val_precision: 0.8095\n",
      "Epoch 17/20\n",
      "25/25 [==============================] - 0s 3ms/step - loss: 0.3091 - accuracy: 0.8799 - recall: 0.3169 - precision: 0.7778 - val_loss: 0.2622 - val_accuracy: 0.8987 - val_recall: 0.4176 - val_precision: 0.7170\n",
      "Epoch 18/20\n",
      "25/25 [==============================] - 0s 3ms/step - loss: 0.3030 - accuracy: 0.8824 - recall: 0.3580 - precision: 0.7565 - val_loss: 0.2550 - val_accuracy: 0.9001 - val_recall: 0.4066 - val_precision: 0.7400\n",
      "Epoch 19/20\n",
      "25/25 [==============================] - 0s 3ms/step - loss: 0.2973 - accuracy: 0.8812 - recall: 0.3539 - precision: 0.7478 - val_loss: 0.2498 - val_accuracy: 0.9001 - val_recall: 0.4396 - val_precision: 0.7143\n",
      "Epoch 20/20\n",
      "25/25 [==============================] - 0s 3ms/step - loss: 0.2920 - accuracy: 0.8818 - recall: 0.3621 - precision: 0.7458 - val_loss: 0.2468 - val_accuracy: 0.9046 - val_recall: 0.5165 - val_precision: 0.7015\n"
     ]
    }
   ],
   "source": [
    "history_1_data = model_1_data.fit(X_data_train, y_data_train, \n",
    "                      epochs=20, \n",
    "                      batch_size=64, \n",
    "                      validation_data=(X_data_test, y_data_test),\n",
    "                      verbose=1)"
   ]
  },
  {
   "cell_type": "code",
   "execution_count": 18,
   "id": "be92e8b5",
   "metadata": {},
   "outputs": [
    {
     "name": "stdout",
     "output_type": "stream",
     "text": [
      "Epoch 1/20\n",
      "21/21 [==============================] - 1s 15ms/step - loss: 0.5354 - accuracy: 0.8434 - recall_1: 0.0000e+00 - precision_1: 0.0000e+00 - val_loss: 0.4243 - val_accuracy: 0.8615 - val_recall_1: 0.0000e+00 - val_precision_1: 0.0000e+00\n",
      "Epoch 2/20\n",
      "21/21 [==============================] - 0s 3ms/step - loss: 0.4219 - accuracy: 0.8434 - recall_1: 0.0000e+00 - precision_1: 0.0000e+00 - val_loss: 0.3701 - val_accuracy: 0.8615 - val_recall_1: 0.0000e+00 - val_precision_1: 0.0000e+00\n",
      "Epoch 3/20\n",
      "21/21 [==============================] - 0s 3ms/step - loss: 0.3801 - accuracy: 0.8449 - recall_1: 0.0143 - precision_1: 0.7500 - val_loss: 0.3320 - val_accuracy: 0.8715 - val_recall_1: 0.0968 - val_precision_1: 0.8000\n",
      "Epoch 4/20\n",
      "21/21 [==============================] - 0s 3ms/step - loss: 0.3542 - accuracy: 0.8643 - recall_1: 0.1619 - precision_1: 0.8500 - val_loss: 0.3092 - val_accuracy: 0.8793 - val_recall_1: 0.1774 - val_precision_1: 0.7857\n",
      "Epoch 5/20\n",
      "21/21 [==============================] - 0s 3ms/step - loss: 0.3423 - accuracy: 0.8732 - recall_1: 0.2714 - precision_1: 0.7703 - val_loss: 0.2996 - val_accuracy: 0.8872 - val_recall_1: 0.3226 - val_precision_1: 0.7018\n",
      "Epoch 6/20\n",
      "21/21 [==============================] - 0s 3ms/step - loss: 0.3304 - accuracy: 0.8777 - recall_1: 0.3429 - precision_1: 0.7347 - val_loss: 0.2899 - val_accuracy: 0.8872 - val_recall_1: 0.3226 - val_precision_1: 0.7018\n",
      "Epoch 7/20\n",
      "21/21 [==============================] - 0s 3ms/step - loss: 0.3274 - accuracy: 0.8762 - recall_1: 0.3381 - precision_1: 0.7245 - val_loss: 0.2888 - val_accuracy: 0.8939 - val_recall_1: 0.3871 - val_precision_1: 0.7164\n",
      "Epoch 8/20\n",
      "21/21 [==============================] - 0s 3ms/step - loss: 0.3176 - accuracy: 0.8799 - recall_1: 0.3333 - precision_1: 0.7692 - val_loss: 0.2856 - val_accuracy: 0.8939 - val_recall_1: 0.3952 - val_precision_1: 0.7101\n",
      "Epoch 9/20\n",
      "21/21 [==============================] - 0s 3ms/step - loss: 0.3147 - accuracy: 0.8799 - recall_1: 0.3810 - precision_1: 0.7207 - val_loss: 0.2786 - val_accuracy: 0.8950 - val_recall_1: 0.3871 - val_precision_1: 0.7273\n",
      "Epoch 10/20\n",
      "21/21 [==============================] - 0s 3ms/step - loss: 0.3086 - accuracy: 0.8822 - recall_1: 0.4048 - precision_1: 0.7203 - val_loss: 0.2797 - val_accuracy: 0.8883 - val_recall_1: 0.3065 - val_precision_1: 0.7308\n",
      "Epoch 11/20\n",
      "21/21 [==============================] - 0s 3ms/step - loss: 0.3092 - accuracy: 0.8784 - recall_1: 0.3571 - precision_1: 0.7282 - val_loss: 0.2784 - val_accuracy: 0.8872 - val_recall_1: 0.4194 - val_precision_1: 0.6420\n",
      "Epoch 12/20\n",
      "21/21 [==============================] - 0s 3ms/step - loss: 0.3043 - accuracy: 0.8792 - recall_1: 0.3667 - precision_1: 0.7264 - val_loss: 0.2802 - val_accuracy: 0.8849 - val_recall_1: 0.4113 - val_precision_1: 0.6296\n",
      "Epoch 13/20\n",
      "21/21 [==============================] - 0s 3ms/step - loss: 0.3000 - accuracy: 0.8799 - recall_1: 0.4048 - precision_1: 0.7025 - val_loss: 0.2716 - val_accuracy: 0.8905 - val_recall_1: 0.3952 - val_precision_1: 0.6806\n",
      "Epoch 14/20\n",
      "21/21 [==============================] - 0s 3ms/step - loss: 0.2959 - accuracy: 0.8814 - recall_1: 0.4000 - precision_1: 0.7179 - val_loss: 0.2724 - val_accuracy: 0.8883 - val_recall_1: 0.3790 - val_precision_1: 0.6714\n",
      "Epoch 15/20\n",
      "21/21 [==============================] - 0s 3ms/step - loss: 0.2952 - accuracy: 0.8837 - recall_1: 0.4000 - precision_1: 0.7368 - val_loss: 0.2737 - val_accuracy: 0.8849 - val_recall_1: 0.4113 - val_precision_1: 0.6296\n",
      "Epoch 16/20\n",
      "21/21 [==============================] - 0s 3ms/step - loss: 0.2933 - accuracy: 0.8829 - recall_1: 0.4048 - precision_1: 0.7265 - val_loss: 0.2713 - val_accuracy: 0.8905 - val_recall_1: 0.3790 - val_precision_1: 0.6912\n",
      "Epoch 17/20\n",
      "21/21 [==============================] - 0s 3ms/step - loss: 0.2963 - accuracy: 0.8814 - recall_1: 0.3952 - precision_1: 0.7217 - val_loss: 0.2724 - val_accuracy: 0.8872 - val_recall_1: 0.3710 - val_precision_1: 0.6667\n",
      "Epoch 18/20\n",
      "21/21 [==============================] - 0s 3ms/step - loss: 0.2916 - accuracy: 0.8837 - recall_1: 0.4048 - precision_1: 0.7328 - val_loss: 0.2718 - val_accuracy: 0.8894 - val_recall_1: 0.3548 - val_precision_1: 0.6984\n",
      "Epoch 19/20\n",
      "21/21 [==============================] - 0s 3ms/step - loss: 0.2892 - accuracy: 0.8852 - recall_1: 0.4190 - precision_1: 0.7333 - val_loss: 0.2766 - val_accuracy: 0.8894 - val_recall_1: 0.3548 - val_precision_1: 0.6984\n",
      "Epoch 20/20\n",
      "21/21 [==============================] - 0s 3ms/step - loss: 0.2920 - accuracy: 0.8755 - recall_1: 0.3857 - precision_1: 0.6807 - val_loss: 0.2733 - val_accuracy: 0.8883 - val_recall_1: 0.3548 - val_precision_1: 0.6875\n"
     ]
    }
   ],
   "source": [
    "history_1_manual = model_1_manual.fit(X_manual_train, y_manual_train, \n",
    "                      epochs=20, \n",
    "                      batch_size=64, \n",
    "                      validation_data=(X_manual_test, y_manual_test),\n",
    "                      verbose=1)"
   ]
  },
  {
   "cell_type": "code",
   "execution_count": 19,
   "id": "7c06832b",
   "metadata": {},
   "outputs": [
    {
     "name": "stdout",
     "output_type": "stream",
     "text": [
      "Epoch 1/20\n",
      "42/42 [==============================] - 1s 9ms/step - loss: 0.5853 - accuracy: 0.7703 - recall_2: 0.1048 - precision_2: 0.1549 - val_loss: 0.4215 - val_accuracy: 0.8615 - val_recall_2: 0.0000e+00 - val_precision_2: 0.0000e+00\n",
      "Epoch 2/20\n",
      "42/42 [==============================] - 0s 2ms/step - loss: 0.3963 - accuracy: 0.8449 - recall_2: 0.0143 - precision_2: 0.7500 - val_loss: 0.3293 - val_accuracy: 0.8760 - val_recall_2: 0.1290 - val_precision_2: 0.8421\n",
      "Epoch 3/20\n",
      "42/42 [==============================] - 0s 2ms/step - loss: 0.3545 - accuracy: 0.8658 - recall_2: 0.2476 - precision_2: 0.7027 - val_loss: 0.3132 - val_accuracy: 0.8760 - val_recall_2: 0.2419 - val_precision_2: 0.6383\n",
      "Epoch 4/20\n",
      "42/42 [==============================] - 0s 4ms/step - loss: 0.3473 - accuracy: 0.8665 - recall_2: 0.3190 - precision_2: 0.6505 - val_loss: 0.3119 - val_accuracy: 0.8771 - val_recall_2: 0.2177 - val_precision_2: 0.6750\n",
      "Epoch 5/20\n",
      "42/42 [==============================] - 0s 5ms/step - loss: 0.3425 - accuracy: 0.8770 - recall_2: 0.3476 - precision_2: 0.7228 - val_loss: 0.3252 - val_accuracy: 0.8793 - val_recall_2: 0.1855 - val_precision_2: 0.7667\n",
      "Epoch 6/20\n",
      "42/42 [==============================] - 0s 5ms/step - loss: 0.3430 - accuracy: 0.8762 - recall_2: 0.3095 - precision_2: 0.7558 - val_loss: 0.3218 - val_accuracy: 0.8715 - val_recall_2: 0.3226 - val_precision_2: 0.5634\n",
      "Epoch 7/20\n",
      "42/42 [==============================] - 0s 5ms/step - loss: 0.3374 - accuracy: 0.8725 - recall_2: 0.3333 - precision_2: 0.6931 - val_loss: 0.3123 - val_accuracy: 0.8704 - val_recall_2: 0.2903 - val_precision_2: 0.5625\n",
      "Epoch 8/20\n",
      "42/42 [==============================] - 0s 5ms/step - loss: 0.3355 - accuracy: 0.8747 - recall_2: 0.3429 - precision_2: 0.7059 - val_loss: 0.3098 - val_accuracy: 0.8737 - val_recall_2: 0.2903 - val_precision_2: 0.5902\n",
      "Epoch 9/20\n",
      "42/42 [==============================] - 0s 5ms/step - loss: 0.3329 - accuracy: 0.8784 - recall_2: 0.3476 - precision_2: 0.7374 - val_loss: 0.3085 - val_accuracy: 0.8782 - val_recall_2: 0.2500 - val_precision_2: 0.6596\n",
      "Epoch 10/20\n",
      "42/42 [==============================] - 0s 5ms/step - loss: 0.3319 - accuracy: 0.8755 - recall_2: 0.3524 - precision_2: 0.7048 - val_loss: 0.3083 - val_accuracy: 0.8793 - val_recall_2: 0.2581 - val_precision_2: 0.6667\n",
      "Epoch 11/20\n",
      "42/42 [==============================] - 0s 5ms/step - loss: 0.3295 - accuracy: 0.8755 - recall_2: 0.3286 - precision_2: 0.7263 - val_loss: 0.3056 - val_accuracy: 0.8771 - val_recall_2: 0.2581 - val_precision_2: 0.6400\n",
      "Epoch 12/20\n",
      "42/42 [==============================] - 0s 6ms/step - loss: 0.3279 - accuracy: 0.8732 - recall_2: 0.3619 - precision_2: 0.6786 - val_loss: 0.3077 - val_accuracy: 0.8737 - val_recall_2: 0.2500 - val_precision_2: 0.6078\n",
      "Epoch 13/20\n",
      "42/42 [==============================] - 0s 5ms/step - loss: 0.3239 - accuracy: 0.8777 - recall_2: 0.3476 - precision_2: 0.7300 - val_loss: 0.3068 - val_accuracy: 0.8704 - val_recall_2: 0.2742 - val_precision_2: 0.5667\n",
      "Epoch 14/20\n",
      "42/42 [==============================] - 0s 5ms/step - loss: 0.3219 - accuracy: 0.8762 - recall_2: 0.3524 - precision_2: 0.7115 - val_loss: 0.3049 - val_accuracy: 0.8771 - val_recall_2: 0.2742 - val_precision_2: 0.6296\n",
      "Epoch 15/20\n",
      "42/42 [==============================] - 0s 3ms/step - loss: 0.3181 - accuracy: 0.8717 - recall_2: 0.3571 - precision_2: 0.6696 - val_loss: 0.3035 - val_accuracy: 0.8771 - val_recall_2: 0.2742 - val_precision_2: 0.6296\n",
      "Epoch 16/20\n",
      "42/42 [==============================] - 0s 3ms/step - loss: 0.3190 - accuracy: 0.8747 - recall_2: 0.3333 - precision_2: 0.7143 - val_loss: 0.3063 - val_accuracy: 0.8615 - val_recall_2: 0.3226 - val_precision_2: 0.5000\n",
      "Epoch 17/20\n",
      "42/42 [==============================] - 0s 3ms/step - loss: 0.3174 - accuracy: 0.8792 - recall_2: 0.3857 - precision_2: 0.7105 - val_loss: 0.3028 - val_accuracy: 0.8737 - val_recall_2: 0.2984 - val_precision_2: 0.5873\n",
      "Epoch 18/20\n",
      "42/42 [==============================] - 0s 3ms/step - loss: 0.3120 - accuracy: 0.8792 - recall_2: 0.3810 - precision_2: 0.7143 - val_loss: 0.3064 - val_accuracy: 0.8771 - val_recall_2: 0.2419 - val_precision_2: 0.6522\n",
      "Epoch 19/20\n",
      "42/42 [==============================] - 0s 3ms/step - loss: 0.3120 - accuracy: 0.8770 - recall_2: 0.3333 - precision_2: 0.7368 - val_loss: 0.3240 - val_accuracy: 0.8615 - val_recall_2: 0.4113 - val_precision_2: 0.5000\n",
      "Epoch 20/20\n",
      "42/42 [==============================] - 0s 3ms/step - loss: 0.3122 - accuracy: 0.8784 - recall_2: 0.3857 - precision_2: 0.7043 - val_loss: 0.3041 - val_accuracy: 0.8726 - val_recall_2: 0.2984 - val_precision_2: 0.5781\n"
     ]
    }
   ],
   "source": [
    "history_1_atomatic = model_1_atomatic.fit(X_atomatic_train, y_atomatic_train, \n",
    "                      epochs=20, \n",
    "                      batch_size=32, \n",
    "                      validation_data=(X_atomatic_test, y_atomatic_test),\n",
    "                      verbose=1)"
   ]
  },
  {
   "cell_type": "code",
   "execution_count": 20,
   "id": "e874ceb0",
   "metadata": {},
   "outputs": [
    {
     "data": {
      "image/png": "[encoded data removed]",
      "text/plain": [
       "<Figure size 432x288 with 1 Axes>"
      ]
     },
     "metadata": {
      "needs_background": "light"
     },
     "output_type": "display_data"
    }
   ],
   "source": [
    "plt.plot(pd.DataFrame(history_1_data.history['accuracy']), label='acc_data')\n",
    "plt.plot(pd.DataFrame(history_1_data.history['val_accuracy']), label='val_acc_data')\n",
    "plt.plot(pd.DataFrame(history_1_manual.history['accuracy']), label='acc_manual')\n",
    "plt.plot(pd.DataFrame(history_1_manual.history['val_accuracy']), label='val_acc_manual')\n",
    "plt.plot(pd.DataFrame(history_1_atomatic.history['accuracy']), label='acc_atomatic')\n",
    "plt.plot(pd.DataFrame(history_1_atomatic.history['val_accuracy']), label='val_acc_atomatic')\n",
    "\n",
    "plt.legend()\n",
    "plt.show()"
   ]
  },
  {
   "cell_type": "code",
   "execution_count": 21,
   "id": "f2ac3827",
   "metadata": {},
   "outputs": [
    {
     "data": {
      "image/png": "[encoded data removed]",
      "text/plain": [
       "<Figure size 432x288 with 1 Axes>"
      ]
     },
     "metadata": {
      "needs_background": "light"
     },
     "output_type": "display_data"
    }
   ],
   "source": [
    "plt.plot(pd.DataFrame(history_1_data.history['val_recall']), label='val_recall_data')\n",
    "plt.plot(pd.DataFrame(history_1_manual.history['val_recall_1']), label='val_recall_manual')\n",
    "plt.plot(pd.DataFrame(history_1_atomatic.history['val_recall_2']), label='val_recall_atomatic')\n",
    "\n",
    "plt.legend()\n",
    "plt.show()"
   ]
  },
  {
   "cell_type": "code",
   "execution_count": 22,
   "id": "5fe6f0f2",
   "metadata": {},
   "outputs": [
    {
     "data": {
      "image/png": "[encoded data removed]",
      "text/plain": [
       "<Figure size 432x288 with 1 Axes>"
      ]
     },
     "metadata": {
      "needs_background": "light"
     },
     "output_type": "display_data"
    }
   ],
   "source": [
    "plt.plot(pd.DataFrame(history_1_data.history['val_precision']), label='val_precision_data')\n",
    "plt.plot(pd.DataFrame(history_1_manual.history['val_precision_1']), label='val_precision_manual')\n",
    "plt.plot(pd.DataFrame(history_1_atomatic.history['val_precision_2']), label='val_precision_atomatic')\n",
    "\n",
    "plt.legend()\n",
    "plt.show()"
   ]
  },
  {
   "cell_type": "code",
   "execution_count": 23,
   "id": "63722a5f",
   "metadata": {},
   "outputs": [],
   "source": [
    "model_2_data = keras.Sequential([\n",
    "              Dense(75, activation='relu', name=\"input_layer\", input_shape=(X_data_train.shape[1], )),\n",
    "              Dropout(0.2),\n",
    "              Dense(50, activation='relu', name=\"1nd_layer\"),\n",
    "              Dropout(0.2),\n",
    "              Dense(20, activation='relu', name=\"2nd_layer\"),\n",
    "              Dropout(0.2),\n",
    "              Dense(1, activation='sigmoid', name=\"output_layer\")\n",
    "], name=\"model_2_data\")\n",
    "\n",
    "model_2_manual = keras.Sequential([\n",
    "              Dense(75, activation='relu', name=\"input_layer\", input_shape=(X_manual_train.shape[1], )),\n",
    "              Dropout(0.2),\n",
    "              Dense(50, activation='relu', name=\"1nd_layer\"),\n",
    "              Dropout(0.2),\n",
    "              Dense(20, activation='relu', name=\"2nd_layer\"),\n",
    "              Dropout(0.2),\n",
    "              Dense(1, activation='sigmoid', name=\"output_layer\")\n",
    "], name=\"model_2_manual\")\n",
    "\n",
    "model_2_atomatic = keras.Sequential([\n",
    "              Dense(75, activation='relu', name=\"input_layer\", input_shape=(X_atomatic_train.shape[1], )),\n",
    "              Dropout(0.2),\n",
    "              Dense(50, activation='relu', name=\"1nd_layer\"),\n",
    "              Dropout(0.2),\n",
    "              Dense(20, activation='relu', name=\"2nd_layer\"),\n",
    "              Dropout(0.2),\n",
    "              Dense(1, activation='sigmoid', name=\"output_layer\")\n",
    "], name=\"model_2_atomatic\")\n",
    "\n",
    "\n",
    "model_2_data.compile(loss=keras.losses.BinaryCrossentropy(),\n",
    "                optimizer=keras.optimizers.Adam(learning_rate=0.001),\n",
    "                metrics=[\"accuracy\", keras.metrics.Recall(), keras.metrics.Precision()])\n",
    "\n",
    "model_2_manual.compile(loss=keras.losses.BinaryCrossentropy(),\n",
    "                optimizer=keras.optimizers.Adam(learning_rate=0.001),\n",
    "                metrics=[\"accuracy\", keras.metrics.Recall(), keras.metrics.Precision()])\n",
    "\n",
    "model_2_atomatic.compile(loss=keras.losses.BinaryCrossentropy(),\n",
    "                optimizer=keras.optimizers.Adam(learning_rate=0.001),\n",
    "                metrics=[\"accuracy\", keras.metrics.Recall(), keras.metrics.Precision()])\n"
   ]
  },
  {
   "cell_type": "code",
   "execution_count": 24,
   "id": "9f04876e",
   "metadata": {},
   "outputs": [
    {
     "name": "stdout",
     "output_type": "stream",
     "text": [
      "Epoch 1/20\n",
      "49/49 [==============================] - 1s 8ms/step - loss: 0.5205 - accuracy: 0.8070 - recall_3: 0.0370 - precision_3: 0.1169 - val_loss: 0.3832 - val_accuracy: 0.8644 - val_recall_3: 0.0000e+00 - val_precision_3: 0.0000e+00\n",
      "Epoch 2/20\n",
      "49/49 [==============================] - 0s 2ms/step - loss: 0.4107 - accuracy: 0.8447 - recall_3: 0.0000e+00 - precision_3: 0.0000e+00 - val_loss: 0.3255 - val_accuracy: 0.8644 - val_recall_3: 0.0000e+00 - val_precision_3: 0.0000e+00\n",
      "Epoch 3/20\n",
      "49/49 [==============================] - 0s 2ms/step - loss: 0.3749 - accuracy: 0.8473 - recall_3: 0.0165 - precision_3: 1.0000 - val_loss: 0.2923 - val_accuracy: 0.8733 - val_recall_3: 0.0879 - val_precision_3: 0.8000\n",
      "Epoch 4/20\n",
      "49/49 [==============================] - 0s 3ms/step - loss: 0.3347 - accuracy: 0.8581 - recall_3: 0.1070 - precision_3: 0.8387 - val_loss: 0.2671 - val_accuracy: 0.9001 - val_recall_3: 0.3846 - val_precision_3: 0.7609\n",
      "Epoch 5/20\n",
      "49/49 [==============================] - 0s 2ms/step - loss: 0.3265 - accuracy: 0.8703 - recall_3: 0.2675 - precision_3: 0.7222 - val_loss: 0.2483 - val_accuracy: 0.9016 - val_recall_3: 0.4286 - val_precision_3: 0.7358\n",
      "Epoch 6/20\n",
      "49/49 [==============================] - 0s 3ms/step - loss: 0.3091 - accuracy: 0.8792 - recall_3: 0.3621 - precision_3: 0.7213 - val_loss: 0.2481 - val_accuracy: 0.9076 - val_recall_3: 0.5824 - val_precision_3: 0.6883\n",
      "Epoch 7/20\n",
      "49/49 [==============================] - 0s 2ms/step - loss: 0.3067 - accuracy: 0.8748 - recall_3: 0.3951 - precision_3: 0.6621 - val_loss: 0.2382 - val_accuracy: 0.9016 - val_recall_3: 0.4835 - val_precision_3: 0.6984\n",
      "Epoch 8/20\n",
      "49/49 [==============================] - 0s 2ms/step - loss: 0.2964 - accuracy: 0.8824 - recall_3: 0.3827 - precision_3: 0.7323 - val_loss: 0.2523 - val_accuracy: 0.9016 - val_recall_3: 0.7253 - val_precision_3: 0.6168\n",
      "Epoch 9/20\n",
      "49/49 [==============================] - 0s 3ms/step - loss: 0.2953 - accuracy: 0.8869 - recall_3: 0.4527 - precision_3: 0.7143 - val_loss: 0.2352 - val_accuracy: 0.9061 - val_recall_3: 0.6154 - val_precision_3: 0.6667\n",
      "Epoch 10/20\n",
      "49/49 [==============================] - 0s 5ms/step - loss: 0.2831 - accuracy: 0.8824 - recall_3: 0.4362 - precision_3: 0.6928 - val_loss: 0.2397 - val_accuracy: 0.9091 - val_recall_3: 0.6923 - val_precision_3: 0.6562\n",
      "Epoch 11/20\n",
      "49/49 [==============================] - 0s 5ms/step - loss: 0.2830 - accuracy: 0.8888 - recall_3: 0.4856 - precision_3: 0.7066 - val_loss: 0.2373 - val_accuracy: 0.9106 - val_recall_3: 0.6923 - val_precision_3: 0.6632\n",
      "Epoch 12/20\n",
      "49/49 [==============================] - 0s 5ms/step - loss: 0.2693 - accuracy: 0.8946 - recall_3: 0.5103 - precision_3: 0.7294 - val_loss: 0.2236 - val_accuracy: 0.9076 - val_recall_3: 0.5055 - val_precision_3: 0.7302\n",
      "Epoch 13/20\n",
      "49/49 [==============================] - 0s 5ms/step - loss: 0.2670 - accuracy: 0.8952 - recall_3: 0.5062 - precision_3: 0.7365 - val_loss: 0.2261 - val_accuracy: 0.9106 - val_recall_3: 0.6264 - val_precision_3: 0.6867\n",
      "Epoch 14/20\n",
      "49/49 [==============================] - 0s 5ms/step - loss: 0.2593 - accuracy: 0.8952 - recall_3: 0.5350 - precision_3: 0.7182 - val_loss: 0.2292 - val_accuracy: 0.9031 - val_recall_3: 0.6484 - val_precision_3: 0.6413\n",
      "Epoch 15/20\n",
      "49/49 [==============================] - 0s 5ms/step - loss: 0.2580 - accuracy: 0.8939 - recall_3: 0.5103 - precision_3: 0.7251 - val_loss: 0.2302 - val_accuracy: 0.9061 - val_recall_3: 0.6264 - val_precision_3: 0.6628\n",
      "Epoch 16/20\n",
      "49/49 [==============================] - 0s 5ms/step - loss: 0.2582 - accuracy: 0.8958 - recall_3: 0.5185 - precision_3: 0.7326 - val_loss: 0.2343 - val_accuracy: 0.9001 - val_recall_3: 0.6923 - val_precision_3: 0.6176\n",
      "Epoch 17/20\n",
      "49/49 [==============================] - 0s 5ms/step - loss: 0.2456 - accuracy: 0.9016 - recall_3: 0.5597 - precision_3: 0.7432 - val_loss: 0.2333 - val_accuracy: 0.9001 - val_recall_3: 0.4615 - val_precision_3: 0.7000\n",
      "Epoch 18/20\n",
      "49/49 [==============================] - 0s 6ms/step - loss: 0.2429 - accuracy: 0.8997 - recall_3: 0.5432 - precision_3: 0.7416 - val_loss: 0.2252 - val_accuracy: 0.9061 - val_recall_3: 0.5714 - val_precision_3: 0.6842\n",
      "Epoch 19/20\n",
      "49/49 [==============================] - 0s 3ms/step - loss: 0.2409 - accuracy: 0.9022 - recall_3: 0.5761 - precision_3: 0.7368 - val_loss: 0.2355 - val_accuracy: 0.8957 - val_recall_3: 0.6703 - val_precision_3: 0.6040\n",
      "Epoch 20/20\n",
      "49/49 [==============================] - 0s 3ms/step - loss: 0.2328 - accuracy: 0.9035 - recall_3: 0.5514 - precision_3: 0.7614 - val_loss: 0.2317 - val_accuracy: 0.9016 - val_recall_3: 0.6374 - val_precision_3: 0.6374\n"
     ]
    }
   ],
   "source": [
    "history_2_data = model_2_data.fit(X_data_train, y_data_train, \n",
    "                      epochs=20, \n",
    "                      batch_size=32, \n",
    "                      validation_data=(X_data_test, y_data_test),\n",
    "                      verbose=1)"
   ]
  },
  {
   "cell_type": "code",
   "execution_count": 25,
   "id": "f13f3982",
   "metadata": {},
   "outputs": [
    {
     "name": "stdout",
     "output_type": "stream",
     "text": [
      "Epoch 1/20\n",
      "42/42 [==============================] - 1s 9ms/step - loss: 0.5150 - accuracy: 0.8412 - recall_4: 0.0000e+00 - precision_4: 0.0000e+00 - val_loss: 0.4110 - val_accuracy: 0.8615 - val_recall_4: 0.0000e+00 - val_precision_4: 0.0000e+00\n",
      "Epoch 2/20\n",
      "42/42 [==============================] - 0s 3ms/step - loss: 0.4089 - accuracy: 0.8434 - recall_4: 0.0000e+00 - precision_4: 0.0000e+00 - val_loss: 0.3348 - val_accuracy: 0.8615 - val_recall_4: 0.0000e+00 - val_precision_4: 0.0000e+00\n",
      "Epoch 3/20\n",
      "42/42 [==============================] - 0s 3ms/step - loss: 0.3668 - accuracy: 0.8553 - recall_4: 0.0857 - precision_4: 0.9000 - val_loss: 0.3020 - val_accuracy: 0.8827 - val_recall_4: 0.2097 - val_precision_4: 0.7879\n",
      "Epoch 4/20\n",
      "42/42 [==============================] - 0s 3ms/step - loss: 0.3411 - accuracy: 0.8643 - recall_4: 0.2190 - precision_4: 0.7188 - val_loss: 0.2904 - val_accuracy: 0.8916 - val_recall_4: 0.3710 - val_precision_4: 0.7077\n",
      "Epoch 5/20\n",
      "42/42 [==============================] - 0s 3ms/step - loss: 0.3435 - accuracy: 0.8620 - recall_4: 0.2476 - precision_4: 0.6582 - val_loss: 0.2871 - val_accuracy: 0.8894 - val_recall_4: 0.3871 - val_precision_4: 0.6761\n",
      "Epoch 6/20\n",
      "42/42 [==============================] - 0s 3ms/step - loss: 0.3341 - accuracy: 0.8710 - recall_4: 0.3476 - precision_4: 0.6697 - val_loss: 0.2844 - val_accuracy: 0.8894 - val_recall_4: 0.3871 - val_precision_4: 0.6761\n",
      "Epoch 7/20\n",
      "42/42 [==============================] - 0s 3ms/step - loss: 0.3305 - accuracy: 0.8710 - recall_4: 0.3571 - precision_4: 0.6637 - val_loss: 0.2811 - val_accuracy: 0.8905 - val_recall_4: 0.3952 - val_precision_4: 0.6806\n",
      "Epoch 8/20\n",
      "42/42 [==============================] - 0s 3ms/step - loss: 0.3260 - accuracy: 0.8747 - recall_4: 0.3238 - precision_4: 0.7234 - val_loss: 0.2798 - val_accuracy: 0.8916 - val_recall_4: 0.4113 - val_precision_4: 0.6800\n",
      "Epoch 9/20\n",
      "42/42 [==============================] - 0s 3ms/step - loss: 0.3268 - accuracy: 0.8755 - recall_4: 0.3381 - precision_4: 0.7172 - val_loss: 0.2740 - val_accuracy: 0.8916 - val_recall_4: 0.3710 - val_precision_4: 0.7077\n",
      "Epoch 10/20\n",
      "42/42 [==============================] - 0s 3ms/step - loss: 0.3259 - accuracy: 0.8762 - recall_4: 0.3905 - precision_4: 0.6833 - val_loss: 0.2759 - val_accuracy: 0.8916 - val_recall_4: 0.3629 - val_precision_4: 0.7143\n",
      "Epoch 11/20\n",
      "42/42 [==============================] - 0s 3ms/step - loss: 0.3240 - accuracy: 0.8762 - recall_4: 0.3429 - precision_4: 0.7200 - val_loss: 0.2759 - val_accuracy: 0.8905 - val_recall_4: 0.3468 - val_precision_4: 0.7167\n",
      "Epoch 12/20\n",
      "42/42 [==============================] - 0s 3ms/step - loss: 0.3187 - accuracy: 0.8770 - recall_4: 0.3524 - precision_4: 0.7184 - val_loss: 0.2739 - val_accuracy: 0.8905 - val_recall_4: 0.3871 - val_precision_4: 0.6857\n",
      "Epoch 13/20\n",
      "42/42 [==============================] - 0s 3ms/step - loss: 0.3107 - accuracy: 0.8747 - recall_4: 0.3429 - precision_4: 0.7059 - val_loss: 0.2733 - val_accuracy: 0.8883 - val_recall_4: 0.3871 - val_precision_4: 0.6667\n",
      "Epoch 14/20\n",
      "42/42 [==============================] - 0s 3ms/step - loss: 0.3164 - accuracy: 0.8784 - recall_4: 0.3905 - precision_4: 0.7009 - val_loss: 0.2710 - val_accuracy: 0.8927 - val_recall_4: 0.3790 - val_precision_4: 0.7121\n",
      "Epoch 15/20\n",
      "42/42 [==============================] - 0s 3ms/step - loss: 0.3161 - accuracy: 0.8755 - recall_4: 0.3905 - precision_4: 0.6777 - val_loss: 0.2735 - val_accuracy: 0.8927 - val_recall_4: 0.3871 - val_precision_4: 0.7059\n",
      "Epoch 16/20\n",
      "42/42 [==============================] - 0s 3ms/step - loss: 0.3128 - accuracy: 0.8688 - recall_4: 0.3381 - precision_4: 0.6574 - val_loss: 0.2709 - val_accuracy: 0.8916 - val_recall_4: 0.3790 - val_precision_4: 0.7015\n",
      "Epoch 17/20\n",
      "42/42 [==============================] - 0s 3ms/step - loss: 0.3038 - accuracy: 0.8755 - recall_4: 0.3667 - precision_4: 0.6937 - val_loss: 0.2782 - val_accuracy: 0.8860 - val_recall_4: 0.4032 - val_precision_4: 0.6410\n",
      "Epoch 18/20\n",
      "42/42 [==============================] - 0s 6ms/step - loss: 0.3080 - accuracy: 0.8770 - recall_4: 0.3762 - precision_4: 0.6991 - val_loss: 0.2814 - val_accuracy: 0.8838 - val_recall_4: 0.4274 - val_precision_4: 0.6163\n",
      "Epoch 19/20\n",
      "42/42 [==============================] - 0s 5ms/step - loss: 0.3031 - accuracy: 0.8867 - recall_4: 0.4286 - precision_4: 0.7377 - val_loss: 0.2730 - val_accuracy: 0.8816 - val_recall_4: 0.3871 - val_precision_4: 0.6154\n",
      "Epoch 20/20\n",
      "42/42 [==============================] - 0s 5ms/step - loss: 0.2962 - accuracy: 0.8822 - recall_4: 0.4095 - precision_4: 0.7167 - val_loss: 0.2744 - val_accuracy: 0.8872 - val_recall_4: 0.3790 - val_precision_4: 0.6620\n"
     ]
    }
   ],
   "source": [
    "history_2_manual = model_2_manual.fit(X_manual_train, y_manual_train, \n",
    "                      epochs=20, \n",
    "                      batch_size=32, \n",
    "                      validation_data=(X_manual_test, y_manual_test),\n",
    "                      verbose=1)"
   ]
  },
  {
   "cell_type": "code",
   "execution_count": 26,
   "id": "5ee5a7d0",
   "metadata": {},
   "outputs": [
    {
     "name": "stdout",
     "output_type": "stream",
     "text": [
      "Epoch 1/20\n",
      "42/42 [==============================] - 2s 9ms/step - loss: 0.5009 - accuracy: 0.8404 - recall_5: 0.0095 - precision_5: 0.2500 - val_loss: 0.3961 - val_accuracy: 0.8615 - val_recall_5: 0.0000e+00 - val_precision_5: 0.0000e+00\n",
      "Epoch 2/20\n",
      "42/42 [==============================] - 0s 3ms/step - loss: 0.3918 - accuracy: 0.8464 - recall_5: 0.0190 - precision_5: 1.0000 - val_loss: 0.3400 - val_accuracy: 0.8726 - val_recall_5: 0.1048 - val_precision_5: 0.8125\n",
      "Epoch 3/20\n",
      "42/42 [==============================] - 0s 3ms/step - loss: 0.3727 - accuracy: 0.8553 - recall_5: 0.1190 - precision_5: 0.7353 - val_loss: 0.3167 - val_accuracy: 0.8760 - val_recall_5: 0.2419 - val_precision_5: 0.6383\n",
      "Epoch 4/20\n",
      "42/42 [==============================] - 0s 3ms/step - loss: 0.3581 - accuracy: 0.8650 - recall_5: 0.2810 - precision_5: 0.6629 - val_loss: 0.3111 - val_accuracy: 0.8749 - val_recall_5: 0.3145 - val_precision_5: 0.5909\n",
      "Epoch 5/20\n",
      "42/42 [==============================] - 0s 3ms/step - loss: 0.3648 - accuracy: 0.8628 - recall_5: 0.2381 - precision_5: 0.6757 - val_loss: 0.3204 - val_accuracy: 0.8737 - val_recall_5: 0.3226 - val_precision_5: 0.5797\n",
      "Epoch 6/20\n",
      "42/42 [==============================] - 0s 3ms/step - loss: 0.3510 - accuracy: 0.8688 - recall_5: 0.2952 - precision_5: 0.6889 - val_loss: 0.3130 - val_accuracy: 0.8726 - val_recall_5: 0.2823 - val_precision_5: 0.5833\n",
      "Epoch 7/20\n",
      "42/42 [==============================] - 0s 3ms/step - loss: 0.3507 - accuracy: 0.8702 - recall_5: 0.3190 - precision_5: 0.6837 - val_loss: 0.3138 - val_accuracy: 0.8726 - val_recall_5: 0.3387 - val_precision_5: 0.5676\n",
      "Epoch 8/20\n",
      "42/42 [==============================] - 0s 3ms/step - loss: 0.3505 - accuracy: 0.8680 - recall_5: 0.3333 - precision_5: 0.6542 - val_loss: 0.3106 - val_accuracy: 0.8704 - val_recall_5: 0.3145 - val_precision_5: 0.5571\n",
      "Epoch 9/20\n",
      "42/42 [==============================] - 0s 3ms/step - loss: 0.3521 - accuracy: 0.8732 - recall_5: 0.3476 - precision_5: 0.6887 - val_loss: 0.3143 - val_accuracy: 0.8715 - val_recall_5: 0.3306 - val_precision_5: 0.5616\n",
      "Epoch 10/20\n",
      "42/42 [==============================] - 0s 3ms/step - loss: 0.3443 - accuracy: 0.8710 - recall_5: 0.3333 - precision_5: 0.6796 - val_loss: 0.3115 - val_accuracy: 0.8693 - val_recall_5: 0.3145 - val_precision_5: 0.5493\n",
      "Epoch 11/20\n",
      "42/42 [==============================] - 0s 3ms/step - loss: 0.3417 - accuracy: 0.8717 - recall_5: 0.3429 - precision_5: 0.6792 - val_loss: 0.3118 - val_accuracy: 0.8704 - val_recall_5: 0.2984 - val_precision_5: 0.5606\n",
      "Epoch 12/20\n",
      "42/42 [==============================] - 0s 3ms/step - loss: 0.3299 - accuracy: 0.8740 - recall_5: 0.3238 - precision_5: 0.7158 - val_loss: 0.3102 - val_accuracy: 0.8682 - val_recall_5: 0.3065 - val_precision_5: 0.5429\n",
      "Epoch 13/20\n",
      "42/42 [==============================] - 0s 3ms/step - loss: 0.3322 - accuracy: 0.8784 - recall_5: 0.3905 - precision_5: 0.7009 - val_loss: 0.3108 - val_accuracy: 0.8704 - val_recall_5: 0.2742 - val_precision_5: 0.5667\n",
      "Epoch 14/20\n",
      "42/42 [==============================] - 0s 3ms/step - loss: 0.3279 - accuracy: 0.8755 - recall_5: 0.3524 - precision_5: 0.7048 - val_loss: 0.3086 - val_accuracy: 0.8682 - val_recall_5: 0.2903 - val_precision_5: 0.5455\n",
      "Epoch 15/20\n",
      "42/42 [==============================] - 0s 3ms/step - loss: 0.3342 - accuracy: 0.8770 - recall_5: 0.3667 - precision_5: 0.7064 - val_loss: 0.3083 - val_accuracy: 0.8648 - val_recall_5: 0.3468 - val_precision_5: 0.5181\n",
      "Epoch 16/20\n",
      "42/42 [==============================] - 0s 3ms/step - loss: 0.3306 - accuracy: 0.8650 - recall_5: 0.3286 - precision_5: 0.6330 - val_loss: 0.3092 - val_accuracy: 0.8715 - val_recall_5: 0.2661 - val_precision_5: 0.5789\n",
      "Epoch 17/20\n",
      "42/42 [==============================] - 0s 3ms/step - loss: 0.3324 - accuracy: 0.8688 - recall_5: 0.3571 - precision_5: 0.6466 - val_loss: 0.3062 - val_accuracy: 0.8670 - val_recall_5: 0.3065 - val_precision_5: 0.5352\n",
      "Epoch 18/20\n",
      "42/42 [==============================] - 0s 3ms/step - loss: 0.3230 - accuracy: 0.8702 - recall_5: 0.3619 - precision_5: 0.6552 - val_loss: 0.3132 - val_accuracy: 0.8749 - val_recall_5: 0.2419 - val_precision_5: 0.6250\n",
      "Epoch 19/20\n",
      "42/42 [==============================] - 0s 3ms/step - loss: 0.3285 - accuracy: 0.8702 - recall_5: 0.3619 - precision_5: 0.6552 - val_loss: 0.3094 - val_accuracy: 0.8693 - val_recall_5: 0.2419 - val_precision_5: 0.5660\n",
      "Epoch 20/20\n",
      "42/42 [==============================] - 0s 3ms/step - loss: 0.3365 - accuracy: 0.8673 - recall_5: 0.3571 - precision_5: 0.6356 - val_loss: 0.3046 - val_accuracy: 0.8670 - val_recall_5: 0.3065 - val_precision_5: 0.5352\n"
     ]
    }
   ],
   "source": [
    "history_2_atomatic = model_2_atomatic.fit(X_atomatic_train, y_atomatic_train, \n",
    "                      epochs=20, \n",
    "                      batch_size=32, \n",
    "                      validation_data=(X_atomatic_test, y_atomatic_test),\n",
    "                      verbose=1)"
   ]
  },
  {
   "cell_type": "code",
   "execution_count": 27,
   "id": "71c88371",
   "metadata": {},
   "outputs": [
    {
     "data": {
      "image/png": "[encoded data removed]",
      "text/plain": [
       "<Figure size 432x288 with 1 Axes>"
      ]
     },
     "metadata": {
      "needs_background": "light"
     },
     "output_type": "display_data"
    }
   ],
   "source": [
    "plt.plot(pd.DataFrame(history_2_data.history['accuracy']), label='acc_data')\n",
    "plt.plot(pd.DataFrame(history_2_data.history['val_accuracy']), label='val_acc_data')\n",
    "plt.plot(pd.DataFrame(history_2_manual.history['accuracy']), label='acc_manual')\n",
    "plt.plot(pd.DataFrame(history_2_manual.history['val_accuracy']), label='val_acc_manual')\n",
    "plt.plot(pd.DataFrame(history_2_atomatic.history['accuracy']), label='acc_atomatic')\n",
    "plt.plot(pd.DataFrame(history_2_atomatic.history['val_accuracy']), label='val_acc_atomatic')\n",
    "\n",
    "plt.legend()\n",
    "plt.show()"
   ]
  },
  {
   "cell_type": "code",
   "execution_count": 28,
   "id": "fff73c2a",
   "metadata": {},
   "outputs": [
    {
     "data": {
      "image/png": "[encoded data removed]",
      "text/plain": [
       "<Figure size 432x288 with 1 Axes>"
      ]
     },
     "metadata": {
      "needs_background": "light"
     },
     "output_type": "display_data"
    }
   ],
   "source": [
    "plt.plot(pd.DataFrame(history_2_data.history['val_recall_3']), label='val_recall_data')\n",
    "plt.plot(pd.DataFrame(history_2_manual.history['val_recall_4']), label='val_recall_manual')\n",
    "plt.plot(pd.DataFrame(history_2_atomatic.history['val_recall_5']), label='val_recall_atomatic')\n",
    "\n",
    "plt.legend()\n",
    "plt.show()"
   ]
  },
  {
   "cell_type": "code",
   "execution_count": 29,
   "id": "929878f9",
   "metadata": {},
   "outputs": [
    {
     "data": {
      "image/png": "[encoded data removed]",
      "text/plain": [
       "<Figure size 432x288 with 1 Axes>"
      ]
     },
     "metadata": {
      "needs_background": "light"
     },
     "output_type": "display_data"
    }
   ],
   "source": [
    "plt.plot(pd.DataFrame(history_2_data.history['val_precision_3']), label='val_precision_data')\n",
    "plt.plot(pd.DataFrame(history_2_manual.history['val_precision_4']), label='val_precision_manual')\n",
    "plt.plot(pd.DataFrame(history_2_atomatic.history['val_precision_5']), label='val_precision_atomatic')\n",
    "\n",
    "plt.legend()\n",
    "plt.show()"
   ]
  },
  {
   "cell_type": "code",
   "execution_count": 30,
   "id": "05a69ec2",
   "metadata": {},
   "outputs": [],
   "source": [
    "model_3_data = keras.Sequential([\n",
    "              Dense(75, use_bias=False, name=\"input_layer\", input_shape=(X_data_train.shape[1], )),\n",
    "              BatchNormalization(),\n",
    "              Activation(\"relu\"),\n",
    "              Dense(50, use_bias=False, name=\"1nd_layer\"),\n",
    "              BatchNormalization(),\n",
    "              Activation(\"relu\"),\n",
    "              Dense(20, use_bias=False, name=\"2nd_layer\"),\n",
    "              BatchNormalization(),\n",
    "              Activation(\"relu\"),\n",
    "              Dense(1, activation='sigmoid', name=\"output_layer\")\n",
    "], name=\"model_3_data\")\n",
    "\n",
    "model_3_manual = keras.Sequential([\n",
    "              Dense(75, use_bias=False, name=\"input_layer\", input_shape=(X_manual_train.shape[1], )),\n",
    "              BatchNormalization(),\n",
    "              Activation(\"relu\"),\n",
    "              Dense(50, use_bias=False, name=\"1nd_layer\"),\n",
    "              BatchNormalization(),\n",
    "              Activation(\"relu\"),\n",
    "              Dense(20, use_bias=False, name=\"2nd_layer\"),\n",
    "              BatchNormalization(),\n",
    "              Activation(\"relu\"),\n",
    "              Dense(1, activation='sigmoid', name=\"output_layer\")\n",
    "], name=\"model_3_manual\")\n",
    "\n",
    "model_3_atomatic = keras.Sequential([\n",
    "              Dense(75, use_bias=False, name=\"input_layer\", input_shape=(X_atomatic_train.shape[1], )),\n",
    "              BatchNormalization(),\n",
    "              Activation(\"relu\"),\n",
    "              Dense(50, use_bias=False, name=\"1nd_layer\"),\n",
    "              BatchNormalization(),\n",
    "              Activation(\"relu\"),\n",
    "              Dense(20, use_bias=False, name=\"2nd_layer\"),\n",
    "              BatchNormalization(),\n",
    "              Activation(\"relu\"),\n",
    "              Dense(1, activation='sigmoid', name=\"output_layer\")\n",
    "], name=\"model_3_atomatic\")\n",
    "\n",
    "model_3_data.compile(loss=keras.losses.BinaryCrossentropy(),\n",
    "                optimizer=keras.optimizers.Adam(learning_rate=0.001),\n",
    "                metrics=[\"accuracy\", keras.metrics.Recall(), keras.metrics.Precision()])\n",
    "model_3_manual.compile(loss=keras.losses.BinaryCrossentropy(),\n",
    "                optimizer=keras.optimizers.Adam(learning_rate=0.001),\n",
    "                metrics=[\"accuracy\", keras.metrics.Recall(), keras.metrics.Precision()])\n",
    "model_3_atomatic.compile(loss=keras.losses.BinaryCrossentropy(),\n",
    "                optimizer=keras.optimizers.Adam(learning_rate=0.001),\n",
    "                metrics=[\"accuracy\", keras.metrics.Recall(), keras.metrics.Precision()])"
   ]
  },
  {
   "cell_type": "code",
   "execution_count": 31,
   "id": "7580bd32",
   "metadata": {},
   "outputs": [
    {
     "name": "stdout",
     "output_type": "stream",
     "text": [
      "Epoch 1/20\n",
      "49/49 [==============================] - 3s 11ms/step - loss: 0.8006 - accuracy: 0.4850 - recall_6: 0.8519 - precision_6: 0.2119 - val_loss: 0.6592 - val_accuracy: 0.8152 - val_recall_6: 0.5824 - val_precision_6: 0.3813\n",
      "Epoch 2/20\n",
      "49/49 [==============================] - 0s 3ms/step - loss: 0.5453 - accuracy: 0.7923 - recall_6: 0.7119 - precision_6: 0.4042 - val_loss: 0.5687 - val_accuracy: 0.8897 - val_recall_6: 0.4396 - val_precision_6: 0.6349\n",
      "Epoch 3/20\n",
      "49/49 [==============================] - 0s 3ms/step - loss: 0.4182 - accuracy: 0.8562 - recall_6: 0.6008 - precision_6: 0.5328 - val_loss: 0.4704 - val_accuracy: 0.8972 - val_recall_6: 0.3846 - val_precision_6: 0.7292\n",
      "Epoch 4/20\n",
      "49/49 [==============================] - 0s 3ms/step - loss: 0.3483 - accuracy: 0.8843 - recall_6: 0.5720 - precision_6: 0.6435 - val_loss: 0.3915 - val_accuracy: 0.9016 - val_recall_6: 0.3626 - val_precision_6: 0.8049\n",
      "Epoch 5/20\n",
      "49/49 [==============================] - 0s 3ms/step - loss: 0.2957 - accuracy: 0.8978 - recall_6: 0.5350 - precision_6: 0.7345 - val_loss: 0.3342 - val_accuracy: 0.9061 - val_recall_6: 0.4835 - val_precision_6: 0.7333\n",
      "Epoch 6/20\n",
      "49/49 [==============================] - 0s 3ms/step - loss: 0.2787 - accuracy: 0.8990 - recall_6: 0.5350 - precision_6: 0.7429 - val_loss: 0.3039 - val_accuracy: 0.9046 - val_recall_6: 0.4835 - val_precision_6: 0.7213\n",
      "Epoch 7/20\n",
      "49/49 [==============================] - 0s 3ms/step - loss: 0.2567 - accuracy: 0.8997 - recall_6: 0.5185 - precision_6: 0.7590 - val_loss: 0.2810 - val_accuracy: 0.9076 - val_recall_6: 0.5824 - val_precision_6: 0.6883\n",
      "Epoch 8/20\n",
      "49/49 [==============================] - 0s 3ms/step - loss: 0.2356 - accuracy: 0.9118 - recall_6: 0.5391 - precision_6: 0.8344 - val_loss: 0.2768 - val_accuracy: 0.9046 - val_recall_6: 0.5495 - val_precision_6: 0.6849\n",
      "Epoch 9/20\n",
      "49/49 [==============================] - 0s 3ms/step - loss: 0.2212 - accuracy: 0.9188 - recall_6: 0.6091 - precision_6: 0.8222 - val_loss: 0.2638 - val_accuracy: 0.9031 - val_recall_6: 0.5934 - val_precision_6: 0.6585\n",
      "Epoch 10/20\n",
      "49/49 [==============================] - 0s 3ms/step - loss: 0.2070 - accuracy: 0.9227 - recall_6: 0.6132 - precision_6: 0.8466 - val_loss: 0.2624 - val_accuracy: 0.9046 - val_recall_6: 0.6703 - val_precision_6: 0.6421\n",
      "Epoch 11/20\n",
      "49/49 [==============================] - 0s 3ms/step - loss: 0.1974 - accuracy: 0.9297 - recall_6: 0.6543 - precision_6: 0.8595 - val_loss: 0.2495 - val_accuracy: 0.9046 - val_recall_6: 0.6374 - val_precision_6: 0.6517\n",
      "Epoch 12/20\n",
      "49/49 [==============================] - 0s 3ms/step - loss: 0.1899 - accuracy: 0.9265 - recall_6: 0.6420 - precision_6: 0.8478 - val_loss: 0.2606 - val_accuracy: 0.8957 - val_recall_6: 0.5714 - val_precision_6: 0.6265\n",
      "Epoch 13/20\n",
      "49/49 [==============================] - 0s 3ms/step - loss: 0.1912 - accuracy: 0.9284 - recall_6: 0.6584 - precision_6: 0.8466 - val_loss: 0.2562 - val_accuracy: 0.9031 - val_recall_6: 0.6484 - val_precision_6: 0.6413\n",
      "Epoch 14/20\n",
      "49/49 [==============================] - 0s 3ms/step - loss: 0.1825 - accuracy: 0.9297 - recall_6: 0.6584 - precision_6: 0.8556 - val_loss: 0.2602 - val_accuracy: 0.8942 - val_recall_6: 0.6374 - val_precision_6: 0.6042\n",
      "Epoch 15/20\n",
      "49/49 [==============================] - 0s 3ms/step - loss: 0.1718 - accuracy: 0.9335 - recall_6: 0.6667 - precision_6: 0.8757 - val_loss: 0.2587 - val_accuracy: 0.8987 - val_recall_6: 0.6484 - val_precision_6: 0.6211\n",
      "Epoch 16/20\n",
      "49/49 [==============================] - 0s 3ms/step - loss: 0.1633 - accuracy: 0.9406 - recall_6: 0.7243 - precision_6: 0.8713 - val_loss: 0.2779 - val_accuracy: 0.8927 - val_recall_6: 0.4396 - val_precision_6: 0.6557\n",
      "Epoch 17/20\n",
      "49/49 [==============================] - 0s 3ms/step - loss: 0.1555 - accuracy: 0.9463 - recall_6: 0.7572 - precision_6: 0.8804 - val_loss: 0.2650 - val_accuracy: 0.9016 - val_recall_6: 0.5604 - val_precision_6: 0.6623\n",
      "Epoch 18/20\n",
      "49/49 [==============================] - 0s 3ms/step - loss: 0.1485 - accuracy: 0.9457 - recall_6: 0.7613 - precision_6: 0.8726 - val_loss: 0.2836 - val_accuracy: 0.8927 - val_recall_6: 0.4835 - val_precision_6: 0.6377\n",
      "Epoch 19/20\n",
      "49/49 [==============================] - 0s 3ms/step - loss: 0.1455 - accuracy: 0.9495 - recall_6: 0.7490 - precision_6: 0.9100 - val_loss: 0.2712 - val_accuracy: 0.8957 - val_recall_6: 0.5714 - val_precision_6: 0.6265\n",
      "Epoch 20/20\n",
      "49/49 [==============================] - 0s 3ms/step - loss: 0.1449 - accuracy: 0.9444 - recall_6: 0.7449 - precision_6: 0.8786 - val_loss: 0.2693 - val_accuracy: 0.8987 - val_recall_6: 0.5934 - val_precision_6: 0.6353\n"
     ]
    }
   ],
   "source": [
    "history_3_data = model_3_data.fit(X_data_train, y_data_train, \n",
    "                      epochs=20, \n",
    "                      batch_size=32, \n",
    "                      validation_data=(X_data_test, y_data_test),\n",
    "                      verbose=1)"
   ]
  },
  {
   "cell_type": "code",
   "execution_count": 32,
   "id": "ed8be246",
   "metadata": {},
   "outputs": [
    {
     "name": "stdout",
     "output_type": "stream",
     "text": [
      "Epoch 1/20\n",
      "42/42 [==============================] - 3s 22ms/step - loss: 0.8990 - accuracy: 0.2960 - recall_7: 0.9571 - precision_7: 0.1769 - val_loss: 0.6864 - val_accuracy: 0.6413 - val_recall_7: 0.7903 - val_precision_7: 0.2494\n",
      "Epoch 2/20\n",
      "42/42 [==============================] - 0s 6ms/step - loss: 0.6460 - accuracy: 0.7136 - recall_7: 0.7952 - precision_7: 0.3287 - val_loss: 0.5974 - val_accuracy: 0.8771 - val_recall_7: 0.3790 - val_precision_7: 0.5875\n",
      "Epoch 3/20\n",
      "42/42 [==============================] - 0s 6ms/step - loss: 0.5126 - accuracy: 0.8158 - recall_7: 0.6381 - precision_7: 0.4393 - val_loss: 0.5083 - val_accuracy: 0.8793 - val_recall_7: 0.2581 - val_precision_7: 0.6667\n",
      "Epoch 4/20\n",
      "42/42 [==============================] - 0s 5ms/step - loss: 0.4371 - accuracy: 0.8464 - recall_7: 0.5762 - precision_7: 0.5084 - val_loss: 0.4224 - val_accuracy: 0.8816 - val_recall_7: 0.2419 - val_precision_7: 0.7143\n",
      "Epoch 5/20\n",
      "42/42 [==============================] - 0s 3ms/step - loss: 0.3837 - accuracy: 0.8673 - recall_7: 0.4905 - precision_7: 0.5920 - val_loss: 0.3694 - val_accuracy: 0.8816 - val_recall_7: 0.2500 - val_precision_7: 0.7045\n",
      "Epoch 6/20\n",
      "42/42 [==============================] - 0s 3ms/step - loss: 0.3497 - accuracy: 0.8770 - recall_7: 0.4714 - precision_7: 0.6471 - val_loss: 0.3366 - val_accuracy: 0.8827 - val_recall_7: 0.2339 - val_precision_7: 0.7436\n",
      "Epoch 7/20\n",
      "42/42 [==============================] - 0s 3ms/step - loss: 0.3281 - accuracy: 0.8770 - recall_7: 0.4429 - precision_7: 0.6596 - val_loss: 0.3115 - val_accuracy: 0.8816 - val_recall_7: 0.2581 - val_precision_7: 0.6957\n",
      "Epoch 8/20\n",
      "42/42 [==============================] - 0s 3ms/step - loss: 0.3140 - accuracy: 0.8844 - recall_7: 0.4762 - precision_7: 0.6897 - val_loss: 0.2968 - val_accuracy: 0.8849 - val_recall_7: 0.2823 - val_precision_7: 0.7143\n",
      "Epoch 9/20\n",
      "42/42 [==============================] - 0s 3ms/step - loss: 0.2951 - accuracy: 0.8881 - recall_7: 0.4524 - precision_7: 0.7308 - val_loss: 0.2871 - val_accuracy: 0.8872 - val_recall_7: 0.3145 - val_precision_7: 0.7091\n",
      "Epoch 10/20\n",
      "42/42 [==============================] - 0s 3ms/step - loss: 0.2892 - accuracy: 0.8867 - recall_7: 0.4286 - precision_7: 0.7377 - val_loss: 0.2923 - val_accuracy: 0.8905 - val_recall_7: 0.3468 - val_precision_7: 0.7167\n",
      "Epoch 11/20\n",
      "42/42 [==============================] - 0s 3ms/step - loss: 0.2849 - accuracy: 0.8867 - recall_7: 0.4333 - precision_7: 0.7339 - val_loss: 0.2898 - val_accuracy: 0.8894 - val_recall_7: 0.3226 - val_precision_7: 0.7273\n",
      "Epoch 12/20\n",
      "42/42 [==============================] - 0s 3ms/step - loss: 0.2726 - accuracy: 0.8859 - recall_7: 0.4238 - precision_7: 0.7355 - val_loss: 0.2882 - val_accuracy: 0.8916 - val_recall_7: 0.3790 - val_precision_7: 0.7015\n",
      "Epoch 13/20\n",
      "42/42 [==============================] - 0s 3ms/step - loss: 0.2815 - accuracy: 0.8822 - recall_7: 0.4143 - precision_7: 0.7131 - val_loss: 0.2927 - val_accuracy: 0.8860 - val_recall_7: 0.3306 - val_precision_7: 0.6833\n",
      "Epoch 14/20\n",
      "42/42 [==============================] - 0s 3ms/step - loss: 0.2736 - accuracy: 0.8889 - recall_7: 0.4381 - precision_7: 0.7480 - val_loss: 0.2928 - val_accuracy: 0.8838 - val_recall_7: 0.3468 - val_precision_7: 0.6515\n",
      "Epoch 15/20\n",
      "42/42 [==============================] - 0s 3ms/step - loss: 0.2764 - accuracy: 0.8941 - recall_7: 0.4810 - precision_7: 0.7537 - val_loss: 0.2939 - val_accuracy: 0.8838 - val_recall_7: 0.3065 - val_precision_7: 0.6786\n",
      "Epoch 16/20\n",
      "42/42 [==============================] - 0s 3ms/step - loss: 0.2761 - accuracy: 0.8896 - recall_7: 0.4333 - precision_7: 0.7583 - val_loss: 0.2881 - val_accuracy: 0.8849 - val_recall_7: 0.3629 - val_precision_7: 0.6522\n",
      "Epoch 17/20\n",
      "42/42 [==============================] - 0s 3ms/step - loss: 0.2714 - accuracy: 0.8881 - recall_7: 0.4381 - precision_7: 0.7419 - val_loss: 0.3003 - val_accuracy: 0.8804 - val_recall_7: 0.3871 - val_precision_7: 0.6076\n",
      "Epoch 18/20\n",
      "42/42 [==============================] - 0s 3ms/step - loss: 0.2652 - accuracy: 0.8926 - recall_7: 0.4667 - precision_7: 0.7538 - val_loss: 0.3031 - val_accuracy: 0.8872 - val_recall_7: 0.3468 - val_precision_7: 0.6825\n",
      "Epoch 19/20\n",
      "42/42 [==============================] - 0s 3ms/step - loss: 0.2560 - accuracy: 0.8963 - recall_7: 0.4810 - precision_7: 0.7710 - val_loss: 0.3025 - val_accuracy: 0.8804 - val_recall_7: 0.4032 - val_precision_7: 0.6024\n",
      "Epoch 20/20\n",
      "42/42 [==============================] - 0s 3ms/step - loss: 0.2491 - accuracy: 0.8956 - recall_7: 0.4810 - precision_7: 0.7652 - val_loss: 0.3131 - val_accuracy: 0.8860 - val_recall_7: 0.3387 - val_precision_7: 0.6774\n"
     ]
    }
   ],
   "source": [
    "history_3_manual = model_3_manual.fit(X_manual_train, y_manual_train, \n",
    "                      epochs=20, \n",
    "                      batch_size=32, \n",
    "                      validation_data=(X_manual_test, y_manual_test),\n",
    "                      verbose=1)"
   ]
  },
  {
   "cell_type": "code",
   "execution_count": 33,
   "id": "61e53c4f",
   "metadata": {},
   "outputs": [
    {
     "name": "stdout",
     "output_type": "stream",
     "text": [
      "Epoch 1/20\n",
      "42/42 [==============================] - 2s 20ms/step - loss: 0.5763 - accuracy: 0.7457 - recall_8: 0.3857 - precision_8: 0.2765 - val_loss: 0.6362 - val_accuracy: 0.8682 - val_recall_8: 0.1532 - val_precision_8: 0.5938\n",
      "Epoch 2/20\n",
      "42/42 [==============================] - 0s 6ms/step - loss: 0.4236 - accuracy: 0.8523 - recall_8: 0.4048 - precision_8: 0.5380 - val_loss: 0.5276 - val_accuracy: 0.8615 - val_recall_8: 0.0081 - val_precision_8: 0.5000\n",
      "Epoch 3/20\n",
      "42/42 [==============================] - 0s 6ms/step - loss: 0.3712 - accuracy: 0.8635 - recall_8: 0.3333 - precision_8: 0.6195 - val_loss: 0.4296 - val_accuracy: 0.8615 - val_recall_8: 0.0081 - val_precision_8: 0.5000\n",
      "Epoch 4/20\n",
      "42/42 [==============================] - 0s 6ms/step - loss: 0.3417 - accuracy: 0.8695 - recall_8: 0.3857 - precision_8: 0.6378 - val_loss: 0.3711 - val_accuracy: 0.8603 - val_recall_8: 0.0000e+00 - val_precision_8: 0.0000e+00\n",
      "Epoch 5/20\n",
      "42/42 [==============================] - 0s 6ms/step - loss: 0.3281 - accuracy: 0.8665 - recall_8: 0.3381 - precision_8: 0.6396 - val_loss: 0.3441 - val_accuracy: 0.8637 - val_recall_8: 0.0242 - val_precision_8: 0.7500\n",
      "Epoch 6/20\n",
      "42/42 [==============================] - 0s 6ms/step - loss: 0.3122 - accuracy: 0.8702 - recall_8: 0.3429 - precision_8: 0.6667 - val_loss: 0.3369 - val_accuracy: 0.8648 - val_recall_8: 0.0323 - val_precision_8: 0.8000\n",
      "Epoch 7/20\n",
      "42/42 [==============================] - 0s 6ms/step - loss: 0.3044 - accuracy: 0.8747 - recall_8: 0.3667 - precision_8: 0.6875 - val_loss: 0.3249 - val_accuracy: 0.8737 - val_recall_8: 0.1048 - val_precision_8: 0.8667\n",
      "Epoch 8/20\n",
      "42/42 [==============================] - 0s 6ms/step - loss: 0.3001 - accuracy: 0.8807 - recall_8: 0.3381 - precision_8: 0.7717 - val_loss: 0.3198 - val_accuracy: 0.8693 - val_recall_8: 0.1613 - val_precision_8: 0.6061\n",
      "Epoch 9/20\n",
      "42/42 [==============================] - 0s 6ms/step - loss: 0.2927 - accuracy: 0.8784 - recall_8: 0.3905 - precision_8: 0.7009 - val_loss: 0.3138 - val_accuracy: 0.8771 - val_recall_8: 0.2258 - val_precision_8: 0.6667\n",
      "Epoch 10/20\n",
      "42/42 [==============================] - 0s 7ms/step - loss: 0.2831 - accuracy: 0.8822 - recall_8: 0.3857 - precision_8: 0.7364 - val_loss: 0.3110 - val_accuracy: 0.8816 - val_recall_8: 0.2823 - val_precision_8: 0.6731\n",
      "Epoch 11/20\n",
      "42/42 [==============================] - 0s 6ms/step - loss: 0.2806 - accuracy: 0.8777 - recall_8: 0.4048 - precision_8: 0.6855 - val_loss: 0.3044 - val_accuracy: 0.8771 - val_recall_8: 0.3387 - val_precision_8: 0.6000\n",
      "Epoch 12/20\n",
      "42/42 [==============================] - 0s 3ms/step - loss: 0.2678 - accuracy: 0.8889 - recall_8: 0.4524 - precision_8: 0.7364 - val_loss: 0.3073 - val_accuracy: 0.8704 - val_recall_8: 0.2581 - val_precision_8: 0.5714\n",
      "Epoch 13/20\n",
      "42/42 [==============================] - 0s 3ms/step - loss: 0.2689 - accuracy: 0.8874 - recall_8: 0.4286 - precision_8: 0.7438 - val_loss: 0.3117 - val_accuracy: 0.8682 - val_recall_8: 0.3468 - val_precision_8: 0.5375\n",
      "Epoch 14/20\n",
      "42/42 [==============================] - 0s 3ms/step - loss: 0.2663 - accuracy: 0.8859 - recall_8: 0.4238 - precision_8: 0.7355 - val_loss: 0.3264 - val_accuracy: 0.8726 - val_recall_8: 0.2823 - val_precision_8: 0.5833\n",
      "Epoch 15/20\n",
      "42/42 [==============================] - 0s 4ms/step - loss: 0.2602 - accuracy: 0.8904 - recall_8: 0.4524 - precision_8: 0.7480 - val_loss: 0.3224 - val_accuracy: 0.8737 - val_recall_8: 0.2984 - val_precision_8: 0.5873\n",
      "Epoch 16/20\n",
      "42/42 [==============================] - 0s 3ms/step - loss: 0.2579 - accuracy: 0.8941 - recall_8: 0.4381 - precision_8: 0.7931 - val_loss: 0.3169 - val_accuracy: 0.8715 - val_recall_8: 0.4435 - val_precision_8: 0.5446\n",
      "Epoch 17/20\n",
      "42/42 [==============================] - 0s 3ms/step - loss: 0.2587 - accuracy: 0.8941 - recall_8: 0.5095 - precision_8: 0.7329 - val_loss: 0.3123 - val_accuracy: 0.8659 - val_recall_8: 0.3871 - val_precision_8: 0.5217\n",
      "Epoch 18/20\n",
      "42/42 [==============================] - 0s 3ms/step - loss: 0.2418 - accuracy: 0.8949 - recall_8: 0.4952 - precision_8: 0.7482 - val_loss: 0.3477 - val_accuracy: 0.8726 - val_recall_8: 0.3145 - val_precision_8: 0.5735\n",
      "Epoch 19/20\n",
      "42/42 [==============================] - 0s 4ms/step - loss: 0.2496 - accuracy: 0.8963 - recall_8: 0.4810 - precision_8: 0.7710 - val_loss: 0.3631 - val_accuracy: 0.8771 - val_recall_8: 0.3468 - val_precision_8: 0.5972\n",
      "Epoch 20/20\n",
      "42/42 [==============================] - 0s 4ms/step - loss: 0.2430 - accuracy: 0.8956 - recall_8: 0.5143 - precision_8: 0.7397 - val_loss: 0.3273 - val_accuracy: 0.8737 - val_recall_8: 0.4032 - val_precision_8: 0.5618\n"
     ]
    }
   ],
   "source": [
    "history_3_atomatic = model_3_atomatic.fit(X_atomatic_train, y_atomatic_train, \n",
    "                      epochs=20, \n",
    "                      batch_size=32, \n",
    "                      validation_data=(X_atomatic_test, y_atomatic_test),\n",
    "                      verbose=1)"
   ]
  },
  {
   "cell_type": "code",
   "execution_count": 34,
   "id": "fe4ec282",
   "metadata": {},
   "outputs": [
    {
     "data": {
      "image/png": "[encoded data removed]",
      "text/plain": [
       "<Figure size 432x288 with 1 Axes>"
      ]
     },
     "metadata": {
      "needs_background": "light"
     },
     "output_type": "display_data"
    }
   ],
   "source": [
    "plt.plot(pd.DataFrame(history_3_data.history['accuracy']), label='acc_data')\n",
    "plt.plot(pd.DataFrame(history_3_data.history['val_accuracy']), label='val_acc_data')\n",
    "plt.plot(pd.DataFrame(history_3_manual.history['accuracy']), label='acc_manual')\n",
    "plt.plot(pd.DataFrame(history_3_manual.history['val_accuracy']), label='val_acc_manual')\n",
    "plt.plot(pd.DataFrame(history_3_atomatic.history['accuracy']), label='acc_atomatic')\n",
    "plt.plot(pd.DataFrame(history_3_atomatic.history['val_accuracy']), label='val_acc_atomatic')\n",
    "\n",
    "plt.legend()\n",
    "plt.show()"
   ]
  },
  {
   "cell_type": "code",
   "execution_count": 35,
   "id": "c28be921",
   "metadata": {},
   "outputs": [
    {
     "data": {
      "image/png": "[encoded data removed]",
      "text/plain": [
       "<Figure size 432x288 with 1 Axes>"
      ]
     },
     "metadata": {
      "needs_background": "light"
     },
     "output_type": "display_data"
    }
   ],
   "source": [
    "plt.plot(pd.DataFrame(history_3_data.history['val_recall_6']), label='val_recall_data')\n",
    "plt.plot(pd.DataFrame(history_3_manual.history['val_recall_7']), label='val_recall_manual')\n",
    "plt.plot(pd.DataFrame(history_3_atomatic.history['val_recall_8']), label='val_recall_atomatic')\n",
    "\n",
    "plt.legend()\n",
    "plt.show()"
   ]
  },
  {
   "cell_type": "code",
   "execution_count": 36,
   "id": "0f6c7fe1",
   "metadata": {},
   "outputs": [
    {
     "data": {
      "image/png": "[encoded data removed]",
      "text/plain": [
       "<Figure size 432x288 with 1 Axes>"
      ]
     },
     "metadata": {
      "needs_background": "light"
     },
     "output_type": "display_data"
    }
   ],
   "source": [
    "plt.plot(pd.DataFrame(history_3_data.history['val_precision_6']), label='val_precision_data')\n",
    "plt.plot(pd.DataFrame(history_3_manual.history['val_precision_7']), label='val_precision_manual')\n",
    "plt.plot(pd.DataFrame(history_3_atomatic.history['val_precision_8']), label='val_precision_atomatic')\n",
    "\n",
    "plt.legend()\n",
    "plt.show()"
   ]
  },
  {
   "cell_type": "code",
   "execution_count": null,
   "id": "bc6e92dd",
   "metadata": {},
   "outputs": [],
   "source": []
  }
 ],
 "metadata": {
  "kernelspec": {
   "display_name": "Python 3 (ipykernel)",
   "language": "python",
   "name": "python3"
  },
  "language_info": {
   "codemirror_mode": {
    "name": "ipython",
    "version": 3
   },
   "file_extension": ".py",
   "mimetype": "text/x-python",
   "name": "python",
   "nbconvert_exporter": "python",
   "pygments_lexer": "ipython3",
   "version": "3.7.13"
  }
 },
 "nbformat": 4,
 "nbformat_minor": 5
}
